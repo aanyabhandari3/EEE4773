{
 "cells": [
  {
   "cell_type": "markdown",
   "metadata": {},
   "source": [
    "# Lecture 15 Part 1 - Midterm Exam Review"
   ]
  },
  {
   "cell_type": "markdown",
   "metadata": {},
   "source": [
    "# Midterm Exam: <font color=blue>Monday, October 21</font> "
   ]
  },
  {
   "cell_type": "markdown",
   "metadata": {},
   "source": [
    "| Section|\tDate |\tTime |\tLocation |\tModality |\n",
    "| -- | -- | --- | ---| ---|\n",
    "| EEE 4773 |\tMonday, October 21 | 7:20pm-9:20pm | TUR L007 |\tin-person |\n",
    "| EEL 5840 on-campus |\tMonday, October 21 | 7:20pm-9:20pm | TUR L007 |\tin-person |\n",
    "| EEL 5840 EDGE/Online |\tOctober 20-21 | anytime within 48 hours | HonorLock |\tonline |"
   ]
  },
  {
   "cell_type": "markdown",
   "metadata": {},
   "source": [
    "## Midterm Exam Coverage"
   ]
  },
  {
   "cell_type": "markdown",
   "metadata": {},
   "source": [
    "* **Coverage**: lectures 1-14 (modules 1-4)\n",
    "\n",
    "* **Practice exam**: available in the [Assignment-Solutions repo](https://github.com/UF-EEL5840-EEE4773-Fall-2024/Assignment-Solutions)\n",
    "    * Solutions will be posted with HW2 solutions (Saturday morning). I encourage to solve exercises prior to checking solutions.\n",
    "    \n",
    "* **Allowed Material**\n",
    "    1. A 1-page letter-sized formula sheet (front and back, handwritten with **pen** or typed). **Formulas only!**\n",
    "        * **Do not include** pseudo-code, solved exercises, lecture derivations or any written definitions.\n",
    "    3. Scientific calculator\n",
    "\n",
    "* **Total time**: 2 hours"
   ]
  },
  {
   "cell_type": "markdown",
   "metadata": {},
   "source": [
    "## Midterm Exam Coverage"
   ]
  },
  {
   "cell_type": "markdown",
   "metadata": {},
   "source": [
    "The midterm exam will cover all materials from Lecture 1-14. These include:\n",
    "\n",
    "1. **Introduction to Machine Learning <font color=blue>(Lectures 1-3)</font>**\n",
    "    * Definition of Machine Learning, Artificial Intelligence and Deep Learning\n",
    "    * Types of learning in Machine Learning\n",
    "    * Supervised Learning diagram\n",
    "    * (Linear) Regression\n",
    "    \n",
    "2. **Experimental Design and Analysis <font color=blue>(Lectures 4-5)</font>**\n",
    "    * Feature representation: polynomial basis function, radial basis function, etc. \n",
    "        * Basis functions in general\n",
    "    * Model selection\n",
    "    * Occam's Razor\n",
    "    * Generalization\n",
    "    * Regularization: ridge and lasso\n",
    "    * Performance Metrics for regression: error metrics, Q-Q plot\n",
    "    * Cross-Validation\n",
    "    * The No Free Lunch Theorem\n",
    "    * Experimental Design\n",
    "    * Hyperparameters tuning\n",
    "    * The Curse of Dimensionality\n",
    "    \n",
    "3. **Bayesian Learning <font color=blue>(Lectures 5-8)</font>**\n",
    "    * Frequentist vs Bayesian statistics\n",
    "    * Bayesian interpretation of Regression Least Squares Objective Function \n",
    "    * Maximum Likelihood Estimation (MLE)\n",
    "    * Maximum A Posteriori (MAP)\n",
    "    * Bayesian Prior Equivalence\n",
    "    * Conjugate Priors, Online update\n",
    "    \n",
    "4. **Generative Models <font color=blue>(Lectures 9-14)</font>**\n",
    "    * Distinction between classification and regression\n",
    "    * Probabilistic Generative Models\n",
    "    * Naive Bayes Classifier\n",
    "    * Mixture Models\n",
    "        * Gaussian Mixture Models (GMMs)\n",
    "    * The Expectation-Maximization (EM) algorithm\n",
    "    * Hidden latent variables"
   ]
  },
  {
   "cell_type": "markdown",
   "metadata": {},
   "source": [
    "---"
   ]
  },
  {
   "cell_type": "markdown",
   "metadata": {},
   "source": [
    "## How to prepare for exam"
   ]
  },
  {
   "cell_type": "markdown",
   "metadata": {},
   "source": [
    "**This is a suggestion only.**\n",
    "\n",
    "1. Review/read all Notebooks.\n",
    "\n",
    "2. Create your formula sheet. **Do not include written descriptions, pseudo-code or solved exercises (including derivations).** \n",
    "\n",
    "3. Review/redo exercises from HW1 and HW2.\n",
    "\n",
    "4. Review/redo exercises from practicals 1, 2 and 3.\n",
    "\n",
    "5. Solve practice exam/s provided.\n",
    "\n",
    "6. Find more practice questions in textbooks."
   ]
  },
  {
   "cell_type": "markdown",
   "metadata": {},
   "source": [
    "---"
   ]
  },
  {
   "cell_type": "code",
   "execution_count": null,
   "metadata": {},
   "outputs": [],
   "source": [
    "import numpy as np\n",
    "import matplotlib.pyplot as plt\n",
    "%matplotlib inline\n",
    "plt.style.use('bmh')\n",
    "import scipy.stats as stats\n",
    "import pandas as pd"
   ]
  },
  {
   "cell_type": "markdown",
   "metadata": {},
   "source": [
    "---"
   ]
  },
  {
   "cell_type": "markdown",
   "metadata": {},
   "source": [
    "# [Discussion Board Questions](https://ufl.instructure.com/courses/514421/discussion_topics/4420804)\n",
    "\n",
    "Thank you for posting questions!"
   ]
  },
  {
   "cell_type": "markdown",
   "metadata": {},
   "source": [
    "## Post 1"
   ]
  },
  {
   "cell_type": "markdown",
   "metadata": {},
   "source": [
    "Y. Yan -\n",
    "\n",
    "I would like to clarify the expected depth of response for questions that require the Bayesian interpretation of optimization functions, such as [Fall 2023's Q5](https://github.com/UF-EEL5840-EEE4773-Fall-2024/Assignment-Solutions/blob/main/Practice%20Exams/Midterm%20Exam%20-%20Fall%202023/Midterm_Exam_EEL5840_Fall_2023.pdf) and [Spring 2024's Q4](https://github.com/UF-EEL5840-EEE4773-Fall-2024/Assignment-Solutions/blob/main/Practice%20Exams/Midterm%20Exam%20-%20Spring%202024/Midterm_Exam_EEL5840_Spring_2024.pdf). Specifically, for a question like [Spring 2024's Q4](https://github.com/UF-EEL5840-EEE4773-Fall-2024/Assignment-Solutions/blob/main/Practice%20Exams/Midterm%20Exam%20-%20Spring%202024/Midterm_Exam_EEL5840_Spring_2024.pdf), if I respond with:\n",
    "\n",
    "_\"The optimization problem corresponds to minimizing the negative log-likelihood under the assumption that the residuals $\\epsilon_i$ follow a Laplace distribution,\"_\n",
    "\n",
    "would this level of response be sufficient to earn full credit? Or do I need to further expand my answer by:\n",
    "\n",
    "1. Writing out the full PDF of the distribution (e.g., Laplace or Weibull).\n",
    "2. Explicitly deriving the negative log-likelihood step-by-step.\n",
    "3. Providing additional mathematical interpretations or assumptions.\n",
    "\n",
    "It would be helpful to know whether these types of questions generally require a high-level conceptual explanation or if detailed mathematical derivations are expected for full marks. This way, I can ensure that my answers meet the grading expectations without unnecessary steps.\n",
    "\n",
    "Thank you for your guidance!"
   ]
  },
  {
   "cell_type": "markdown",
   "metadata": {},
   "source": [
    "---"
   ]
  }
 ],
 "metadata": {
  "kernelspec": {
   "display_name": "Python 3 (ipykernel)",
   "language": "python",
   "name": "python3"
  },
  "language_info": {
   "codemirror_mode": {
    "name": "ipython",
    "version": 3
   },
   "file_extension": ".py",
   "mimetype": "text/x-python",
   "name": "python",
   "nbconvert_exporter": "python",
   "pygments_lexer": "ipython3",
   "version": "3.11.9"
  },
  "latex_envs": {
   "LaTeX_envs_menu_present": true,
   "autoclose": false,
   "autocomplete": true,
   "bibliofile": "biblio.bib",
   "cite_by": "apalike",
   "current_citInitial": 1,
   "eqLabelWithNumbers": true,
   "eqNumInitial": 1,
   "hotkeys": {
    "equation": "Ctrl-E",
    "itemize": "Ctrl-I"
   },
   "labels_anchors": false,
   "latex_user_defs": false,
   "report_style_numbering": false,
   "user_envs_cfg": false
  },
  "varInspector": {
   "cols": {
    "lenName": 16,
    "lenType": 16,
    "lenVar": 40
   },
   "kernels_config": {
    "python": {
     "delete_cmd_postfix": "",
     "delete_cmd_prefix": "del ",
     "library": "var_list.py",
     "varRefreshCmd": "print(var_dic_list())"
    },
    "r": {
     "delete_cmd_postfix": ") ",
     "delete_cmd_prefix": "rm(",
     "library": "var_list.r",
     "varRefreshCmd": "cat(var_dic_list()) "
    }
   },
   "types_to_exclude": [
    "module",
    "function",
    "builtin_function_or_method",
    "instance",
    "_Feature"
   ],
   "window_display": false
  },
  "widgets": {
   "application/vnd.jupyter.widget-state+json": {
    "state": {},
    "version_major": 2,
    "version_minor": 0
   }
  }
 },
 "nbformat": 4,
 "nbformat_minor": 4
}
