{
 "cells": [
  {
   "cell_type": "markdown",
   "metadata": {},
   "source": [
    "# Lecture 4 - Mitigating Overfitting, Experimental Design & Performance Measures for Regression Tasks"
   ]
  },
  {
   "cell_type": "markdown",
   "metadata": {},
   "source": [
    "---"
   ]
  },
  {
   "cell_type": "code",
   "execution_count": null,
   "metadata": {},
   "outputs": [],
   "source": [
    "import numpy as np\n",
    "import matplotlib.pyplot as plt\n",
    "%matplotlib inline\n",
    "plt.style.use('bmh')"
   ]
  },
  {
   "cell_type": "code",
   "execution_count": null,
   "metadata": {},
   "outputs": [],
   "source": [
    "def NoisySinusoidalData(N, a, b, sigma):\n",
    "    '''Generates N data points in the range [a,b) sampled from a sin(2*pi*x) \n",
    "    with additive zero-mean Gaussian random noise with standard deviation sigma'''\n",
    "    \n",
    "    # N input samples, evenly spaced numbers between [a,b) incrementing by 1/N\n",
    "    x = np.linspace(a,b,N)\n",
    "    \n",
    "    # draw N sampled from a univariate Gaussian distribution with mean 0, sigma standard deviation and N data points\n",
    "    noise = np.random.normal(0,sigma,N)\n",
    "    \n",
    "    # desired values, noisy sinusoidal\n",
    "    t = np.sin(2*np.pi*x) + noise\n",
    "    \n",
    "    return x, t"
   ]
  },
  {
   "cell_type": "code",
   "execution_count": null,
   "metadata": {},
   "outputs": [],
   "source": [
    "# Generate input samples and desired values\n",
    "N_train = 70 # number of data samples for training\n",
    "N_test = 20 # number of data samples for test\n",
    "\n",
    "a, b = [0,1] # data samples interval\n",
    "\n",
    "sigma_train = 0.4 # standard deviation of the zero-mean Gaussian noise -- training data\n",
    "sigma_test = 0.5 # standard deviation of the zero-mean Gaussian noise -- test data\n",
    "\n",
    "x_train, t_train = NoisySinusoidalData(N_train, a, b, sigma_train) # Training Data - Noisy sinusoidal\n",
    "x_true, t_true = NoisySinusoidalData(N_train, a, b, 0) # True Sinusoidal - in practice, we don't have the true fct\n",
    "x_test, t_test = NoisySinusoidalData(N_test, a, b, sigma_test) # Test Data - Noisy sinusoidal\n",
    "\n",
    "plt.figure(figsize=(10,5))\n",
    "plt.scatter(x_train, t_train, c='b', linewidths=3, label = 'Training Data')\n",
    "plt.plot(x_true, t_true, 'g', linewidth=4, label = 'True Mapper')\n",
    "plt.plot(x_test, t_test, 'r^', label = 'Test Data')\n",
    "plt.legend(fontsize=15)\n",
    "plt.xlabel('Data Samples, $x$',size=15)\n",
    "plt.ylabel('Target Labels, $t$',size=15);"
   ]
  },
  {
   "cell_type": "code",
   "execution_count": null,
   "metadata": {},
   "outputs": [],
   "source": [
    "def PolynomialRegression(x,t,M):\n",
    "    '''Fit a polynomial of order M to the data input data x and desire values t'''\n",
    "    \n",
    "    # Compute feature matrix X with polynomial features\n",
    "    X = np.array([x**i for i in range(M+1)]).T # this creates an N-by-(M+1) matrix\n",
    "    \n",
    "    # Compute the solution for the parameters w, using the MSE ojective function\n",
    "    w = np.linalg.inv(X.T@X)@X.T@t \n",
    "    \n",
    "    # Compute model prediction\n",
    "    y = X@w\n",
    "    \n",
    "    return w, y\n",
    "\n",
    "def PolynomialRegression_test(x_test, w):\n",
    "    \n",
    "    # Compute test feature matrix\n",
    "    X_test = np.array([x_test**i for i in range(len(w))]).T # this is a N_test-by-(M+1) matrix\n",
    "    \n",
    "    # Prediction for test samples using the trained model\n",
    "    y_test = X_test@w\n",
    "    \n",
    "    return y_test"
   ]
  },
  {
   "cell_type": "code",
   "execution_count": null,
   "metadata": {},
   "outputs": [],
   "source": [
    "# Model Order\n",
    "M = 15\n",
    "\n",
    "# Find the parameters that fit the noisy sinusoidal\n",
    "w, y_train = PolynomialRegression(x_train,t_train,M) \n",
    "\n",
    "# Predict output for test set\n",
    "y_test = PolynomialRegression_test(x_test, w)\n",
    "\n",
    "plt.figure(figsize=(10,7))\n",
    "plt.plot(x_train, t_train, 'bo', label='Training Data')\n",
    "plt.plot(x_train, y_train, '.-r', label = 'Estimated Polynomial in Training')\n",
    "plt.plot(x_true, t_true, 'g', label = 'True Function')\n",
    "plt.plot(x_test, t_test, 'r^', label = 'Test Data')\n",
    "plt.plot(x_test, y_test, '--k', label = 'Prediction in Test')\n",
    "plt.legend()\n",
    "plt.xlabel('Data Samples, x')\n",
    "plt.ylabel('Desired Values, t');"
   ]
  },
  {
   "cell_type": "code",
   "execution_count": null,
   "metadata": {},
   "outputs": [],
   "source": [
    "# Displaying the weight vectors\n",
    "\n",
    "plt.figure(figsize=(10,4))\n",
    "plt.stem(w)\n",
    "plt.ylabel('Weight values', size=15)\n",
    "plt.xticks(np.arange(len(w)), ['$w_{'+str(i)+'}$' for i in range(len(w))],rotation=0);"
   ]
  },
  {
   "cell_type": "markdown",
   "metadata": {},
   "source": [
    "* What happens when the test points fall outside the range of what the model has *learned*?"
   ]
  },
  {
   "cell_type": "code",
   "execution_count": null,
   "metadata": {},
   "outputs": [],
   "source": [
    "M = 4\n",
    "w, y_train = PolynomialRegression(x_train,t_train,M) \n",
    "\n",
    "x_test2, t_test2 = NoisySinusoidalData(N_test, 0, 1.5, sigma_test)\n",
    "\n",
    "plt.figure(figsize=(10,5))\n",
    "plt.plot(x_train, t_train, 'bo', label = 'Training Data')\n",
    "plt.plot(x_true, t_true, '-g', label = 'True Sinusoidal')\n",
    "plt.plot(x_test2, t_test2, 'r^', label = 'Test Data')\n",
    "plt.legend()\n",
    "plt.xlabel('Data Samples, x')\n",
    "plt.ylabel('Desired Values, t');"
   ]
  },
  {
   "cell_type": "code",
   "execution_count": null,
   "metadata": {},
   "outputs": [],
   "source": [
    "y_test2 = PolynomialRegression_test(x_test2, w)\n",
    "\n",
    "plt.figure(figsize=(10,5))\n",
    "plt.plot(x_train,t_train,'bo', label='Training Data')\n",
    "plt.plot(x_train,y_train,'.-r', label = 'Estimated Polynomial')\n",
    "plt.plot(x_true,t_true,'-g', label = 'True Function')\n",
    "plt.plot(x_test2,t_test2,'r^', label = 'Test Data')\n",
    "plt.plot(x_test2,y_test2,'--k', label = 'Test Predictions')\n",
    "plt.legend()\n",
    "plt.xlabel('Data Samples, x')\n",
    "plt.ylabel('Desired Values, t');"
   ]
  },
  {
   "cell_type": "markdown",
   "metadata": {},
   "source": [
    "---"
   ]
  },
  {
   "cell_type": "markdown",
   "metadata": {},
   "source": [
    "# Overfitting and Underfitting\n",
    "\n",
    "<div class=\"alert alert-info\">\n",
    "    <b>Overfitting</b> \n",
    "\n",
    "In model fitting, a model is said to have **overfit** to the training data, if it is *not* able to *generalize* to new and unknown data. We can observe this effect as the training error is small but the error in the test data is very large.\n",
    "\n",
    "In other words, overfitting means that the *true* underlying model of the data is not estimated/learned properly, instead the model returned a poor representation that **memorized** the training samples **and** any meaningless noise in the data.\n",
    "</div>"
   ]
  },
  {
   "cell_type": "code",
   "execution_count": 1,
   "metadata": {},
   "outputs": [
    {
     "data": {
      "image/png": "[encoded data removed]",
      "text/plain": [
       "<IPython.core.display.Image object>"
      ]
     },
     "execution_count": 1,
     "metadata": {
      "image/png": {
       "width": 700
      }
     },
     "output_type": "execute_result"
    }
   ],
   "source": [
    "from IPython.display import Image\n",
    "Image('figures/fits.png',width=700)"
   ]
  },
  {
   "cell_type": "markdown",
   "metadata": {},
   "source": [
    "<div class=\"alert alert-info\">\n",
    "    <b>Underfitting</b> \n",
    "\n",
    "In model fitting, a model is said to have **underfit** if the error in both in training and test data sets are still decreasing. \n",
    "\n",
    "An underfitted model is not complex enough to model all the characteristics in the data.\n",
    "</div>"
   ]
  },
  {
   "cell_type": "markdown",
   "metadata": {},
   "source": [
    "As we saw before, as the polynomial model order increases, the weight values become very large! This is a good indication that we may be *memorizing* the training data."
   ]
  },
  {
   "cell_type": "markdown",
   "metadata": {},
   "source": [
    "* As $M$ increases, there are more parameters (more elements in the vector $\\mathbf{w}$) to learn and, so, the model becomes more complex.\n",
    "\n",
    "* The model order $M$ in polynomial regression regulates the model *complexity*. The large *M* is, the model complex the model is.\n",
    "    * In a Polynomial regresssion it also controls the richness of the feature space.\n",
    "* **Occam's Razor** states that the simplest model that works for our data is usually the most appropriate and sufficient. Model simplicity can mean different things, but we can consider model order. "
   ]
  },
  {
   "cell_type": "markdown",
   "metadata": {},
   "source": [
    "As a model that is too *complex*, it is more likely to *overfit*.\n",
    "* This essentially means it \"memorizes\" the input training data and becomes incapable of predicting outside it,\n",
    "* This includes memorizing all of the training data's noise!"
   ]
  },
  {
   "cell_type": "markdown",
   "metadata": {},
   "source": [
    "---"
   ]
  },
  {
   "cell_type": "markdown",
   "metadata": {},
   "source": [
    "# Strategies to Mitigate Overfitting\n",
    "\n",
    "1. Add more data! - when possible\n",
    "\n",
    "2. Occam's Razor - select a model with lower complexity\n",
    "\n",
    "3. Regularization - constrains/regularizes the coefficients of the model\n",
    "\n",
    "4. Cross-validation - technique for utilizing the training data to fine-tune hyperparameter values"
   ]
  },
  {
   "cell_type": "markdown",
   "metadata": {},
   "source": [
    "---"
   ]
  },
  {
   "cell_type": "markdown",
   "metadata": {},
   "source": [
    "# Regularization - Adding a Weight Penalty to the Objective Function"
   ]
  },
  {
   "cell_type": "markdown",
   "metadata": {},
   "source": [
    "Suppose you have $N$ data points and you are trying to estimate $M$ parameters. In other words, you are solving a set of $N$ equations with $M$ variables. For the least squares objective function, we computed the solution for this linear system to be:\n",
    "\n",
    "$$\\mathbf{w} = \\mathbf{X}^{\\dagger}\\mathbf{t} = (\\mathbf{X}^T\\mathbf{X})^{-1}\\mathbf{X}^T\\mathbf{t}$$\n",
    "\n",
    "**What happens when we have more unknowns than known variables, i.e., $M > N$? (This means the feature matrix $X$ will be a wide matrix.)** \n",
    "\n",
    "In other words, what happens when the data matrix, $\\mathbf{X}^T\\mathbf{X}$, is **not** full rank?\n",
    "\n",
    "* Review *span* and *rank*: [\"Inverse matrices, column space and null space\", YouTube 3Blue1Brown video](https://www.youtube.com/watch?v=uQhTuRlWMxw&list=PLZHQObOWTQDPD3MizzM2xVFitgF8hE_ab&index=7)\n",
    "\n",
    "In practice, it is quite often to obtain a **singular matrix** error. When this occurs, the matrix $\\mathbf{X}^T\\mathbf{X}$ is **not invertible**."
   ]
  },
  {
   "cell_type": "markdown",
   "metadata": {},
   "source": [
    "<div class=\"alert alert-info\">\n",
    "    <b>Regularization</b> \n",
    "\n",
    "Regularization constrains (or regularizes) the parameter coefficients such that they cannot take a large value. Regularization of the model parameters discourages learning a more complex, as to avoid the risk of overfitting.\n",
    "</div>"
   ]
  },
  {
   "cell_type": "markdown",
   "metadata": {},
   "source": [
    "### Ridge Regularizer\n",
    "\n",
    "The Ridge regularizer, also known as the L2-Norm regularizer or weight decay, adds a term with the squared sum of the weights scaled by the hyperparameter $\\lambda$. \n",
    "\n",
    "\\begin{align*}\n",
    "R^{(L2)}_{\\mathbf{w}} &= \\lambda \\sum_{i=0}^M w_i^2 \\\\\n",
    "&= \\lambda \\Vert\\mathbf{w}\\Vert_2^2\n",
    "\\end{align*}\n",
    "\n",
    "This forces the learning algorithm to not only fit the data but also keep the model weights as small as possible. Note that the regularization term should only be added to the objective function during training. Once the model is trained, you want to evaluate the model's performance using the unregularized performance measure.\n",
    "\n",
    "* The hyperparameter $\\lambda$ controls how much you want to regularize the model. If $\\lambda$ is 0 then the learning algorithm will just minimize the error term in the cost function. If $\\lambda$ is very large, then all weights end up very close to zero and the result is a flat line going through the data’s mean."
   ]
  },
  {
   "cell_type": "markdown",
   "metadata": {},
   "source": [
    "### Lasso Regularizer\n",
    "\n",
    "The Lasso regularizer, also known as the L1-norm regularizer, it adds a term with the L1-norm of the weight vector $\\mathbf{w}$ scaled by the hyperparameter $\\lambda$. $\\lambda$ here has the same tradeoff responsibility.\n",
    "\n",
    "\\begin{align*}\n",
    "R^{(L1)}_{\\mathbf{w}} &= \\lambda \\sum_{i=0}^M |w_i| \\\\\n",
    "&= \\lambda \\Vert\\mathbf{w}\\Vert_1\n",
    "\\end{align*}\n",
    "\n",
    "* An important characteristic of the Lasso regularizer is that it tends to eliminate the weights of the least important features by setting them to zero. This is known as **sparsity**."
   ]
  },
  {
   "cell_type": "markdown",
   "metadata": {},
   "source": [
    "### Elastic Net Regularizer\n",
    "\n",
    "Elastic Net is a middle ground between Ridge and Lasso. The regularization term is a simple mix of both Ridge and Lasso's regularization terms, and you can control the mix ratio with the hyperparameter $\\beta$.\n",
    "\n",
    "\\begin{align*}\n",
    "R^{(L12)}_{\\mathbf{w}} &= \\beta\\lambda \\sum_{i=0}^M |w_i| + (1-\\beta) \\lambda \\sum_{i=0}^M w_i^2 \\\\\n",
    "&= \\beta R^{(L1)}_{\\mathbf{w}} + (1-\\beta) R^{(L2)}_{\\mathbf{w}}\n",
    "\\end{align*}"
   ]
  },
  {
   "cell_type": "code",
   "execution_count": null,
   "metadata": {},
   "outputs": [],
   "source": [
    "%matplotlib inline\n",
    "def Regularizers(w,beta=0.5):\n",
    "    L1 = np.abs(w)\n",
    "    L2 = w**2\n",
    "    Elastic = beta*np.abs(w) + (1-beta)*w**2\n",
    "    return L1, L2, Elastic\n",
    "\n",
    "x = np.linspace(-1.5,1.5,1000)\n",
    "L1,L2,Elastic=Regularizers(x)\n",
    "\n",
    "plt.plot(x,L1, 'b--', label = 'Lasso regularizer')\n",
    "plt.plot(x,L2, 'm-.', label = 'Ridge regularizer')\n",
    "plt.plot(x,Elastic, 'g-', label = 'Elastic Net regularizer')\n",
    "plt.xlabel('Coefficients',size=15)\n",
    "plt.ylabel('Regularizers',size=15); plt.legend(fontsize=15);"
   ]
  },
  {
   "cell_type": "markdown",
   "metadata": {},
   "source": [
    "### Observations\n",
    "\n",
    "* Ridge regularizer:\n",
    "    * forces parameter values to be small but not equal to zero\n",
    "    * is highly affected by outliers\n",
    "\n",
    "* Lasso regularizer:\n",
    "    * promotes sparsity, i.e. forces some parameter values to be exactly equal to zero\n",
    "    * it is not as affected by outliers\n",
    "    \n",
    "* Elastic Net regularizer:\n",
    "    * requires fine-tuning of an extra hyperparameter"
   ]
  },
  {
   "cell_type": "markdown",
   "metadata": {},
   "source": [
    "### Examples\n",
    "\n",
    "* Consider $\\mathbf{w}=[0.5,0.5,1]$. We find that the rigde regularizer is $R^{(L2)}_{\\mathbf{w}} = 0.5^2+0.5^2+1^2 = 1.5$, whereas the lasso regularizer gives us $R^{(L1)}_{\\mathbf{w}}=0.5+0.5+1=2$. Thus, for this set of coefficients, the lasso regularizer will apply a stronger penalty (larger value).\n",
    "\n",
    "* Consider $\\mathbf{w}=[0,0,2]$. We find that the rigde regularizer is $R^{(L2)}_{\\mathbf{w}} = 0^2+0^2+2^2 = 4$, whereas the lasso regularizer gives us $R^{(L1)}_{\\mathbf{w}}=0+0+2=2$. Thus, for this set of coefficients, the ridge regularizer will apply a stronger penalty (larger value)."
   ]
  },
  {
   "cell_type": "markdown",
   "metadata": {},
   "source": [
    "### Which one to choose?\n",
    "\n",
    "Ridge is a good default, but if you suspect that only a few features are actually useful, you should prefer Lasso or Elastic Net since they tend to reduce the useless features' weights down to zero. In general, Elastic Net is preferred over Lasso since Lasso may behave erratically when the number of features is greater than the number of training instances or when several features are strongly correlated."
   ]
  },
  {
   "cell_type": "markdown",
   "metadata": {},
   "source": [
    "<div class=\"alert alert-info\">\n",
    "    <b>Ridge Regression</b> \n",
    "\n",
    "Let $\\{(x_i,t_i)\\}_{i=1}^N$ be the set of training data, where $x_i$ are the training samples and $t_i$ their associated target/desired value. Consider the linear regression model: $\\mathbf{y} = \\mathbf{X}\\mathbf{w}$, where $\\mathbf{X}$ is the feature matrix of size $N\\times(M+1)$.\n",
    "\n",
    "The Ridge Regression objective function penalizes the weights with the L2-norm:\n",
    "\n",
    "\\begin{align*}\n",
    "J(\\mathbf{w}) &= \\Vert\\mathbf{t}-\\mathbf{X}\\mathbf{w}\\Vert_2^2 + \\lambda \\Vert\\mathbf{w}\\Vert_2^2\n",
    "\\end{align*}\n",
    "\n",
    "where $\\lambda$ is the **hyperparameter** that controls the trade off between minimizing the error and minimizing the regularizer.\n",
    "\n",
    "Our goal is to find $\\mathbf{w}$ that minimizes the objective function $J(\\mathbf{w})$, that is:\n",
    "    \n",
    "\\begin{align*}\n",
    "\\arg_{\\mathbf{w}}\\min J(\\mathbf{w})\n",
    "\\end{align*}\n",
    "\n",
    "</div>"
   ]
  },
  {
   "cell_type": "markdown",
   "metadata": {},
   "source": [
    "Let's expand the equation for $J(\\mathbf{w})$:\n",
    "\n",
    "\\begin{align*}\n",
    "J(\\mathbf{w}) &= \\Vert\\mathbf{t}-\\mathbf{X}\\mathbf{w}\\Vert_2^2 + \\lambda \\Vert\\mathbf{w}\\Vert_2^2\\\\\n",
    "&= (\\mathbf{t}-\\mathbf{X}\\mathbf{w})^T(\\mathbf{t}-\\mathbf{X}\\mathbf{w}) + \\lambda\\mathbf{w}^T\\mathbf{w}\\\\\n",
    "&= \\mathbf{t}^T\\mathbf{t} -\\mathbf{t}^T\\mathbf{X}\\mathbf{w}-\\mathbf{w}^T\\mathbf{X}^T\\mathbf{t}+\\mathbf{w}^T\\mathbf{X}^T\\mathbf{X}\\mathbf{w} + \\lambda\\mathbf{w}^T\\mathbf{w}\n",
    "\\end{align*}\n",
    "    \n",
    "Taking the derivative:\n",
    "\n",
    "\\begin{align*}\n",
    "\\frac{d J}{d \\mathbf{w}} = -2\\mathbf{t}^T\\mathbf{X} + 2\\mathbf{w}^T\\mathbf{X}^T\\mathbf{X} + \\lambda 2\\mathbf{w}^T\\mathbf{I}\n",
    "\\end{align*}\n",
    "\n",
    "Setting it to zero, applyting transpose on both sides, and solving for $\\mathbf{w}$:\n",
    "\n",
    "\\begin{align*}\n",
    "-\\mathbf{X}^T\\mathbf{t} + \\mathbf{X}^T\\mathbf{X}\\mathbf{w} + \\lambda \\mathbf{I}\\mathbf{w} &= 0 \\\\\n",
    "(\\mathbf{X}^T\\mathbf{X} + \\lambda \\mathbf{I})\\mathbf{w} &= \\mathbf{X}^T\\mathbf{t}\\\\\n",
    "\\mathbf{w} &= (\\mathbf{X}^T\\mathbf{X} + \\lambda \\mathbf{I})^{-1} \\mathbf{X}^T\\mathbf{t}\n",
    "\\end{align*}\n",
    "\n",
    "The optimal solution is in closed-form analytical solution. This is because we are dealing with a linear model and a convex objective function:\n",
    "\n",
    "$$\\mathbf{w} = \\left(\\mathbf{X}^T\\mathbf{X} + \\lambda\\mathbf{I}\\right)^{-1}\\mathbf{X}^T\\mathbf{t} $$\n",
    "\n",
    "where $\\mathbf{I}$ is an identity matrix of size $(M+1)\\times (M+1)$. As you can see, we first **diagonally-load** the square matrix $\\mathbf{X}^T\\mathbf{X}$ before inverting it."
   ]
  },
  {
   "cell_type": "markdown",
   "metadata": {},
   "source": [
    "### Observations"
   ]
  },
  {
   "cell_type": "markdown",
   "metadata": {},
   "source": [
    "* In practice, the square matrix $\\mathbf{X}^T\\mathbf{X}$ may be **singular**. This will happen when:\n",
    "    1. There are more parameters ($M$) than samples ($N$).\n",
    "    2. Some of the features are linearly dependent.\n",
    "    \n",
    "* A singular matrix:\n",
    "    * is not full rank\n",
    "    * has at least one eigenvalue equal to 0\n",
    "    * its determinant is 0\n",
    "    * one or more columns (or rows) are linearly dependent\n",
    "\n",
    "* One solution to matrix singularity is to diagonally load it, before inverting. Diagonally loading a singular matrix, will force it to become full rank.\n",
    "\n",
    "* If $\\lambda \\rightarrow 0$, then the penalty will be disregarded in the solution for the parameters. This applies the least *distortion* to $\\mathbf{X}^T\\mathbf{X}$.\n",
    "\n",
    "* If $\\lambda \\rightarrow \\infty$, then the penalty term will be very large, therefore the learning algorithm will *try* to minimize it. This applies the most *distortion* to $\\mathbf{X}^T\\mathbf{X}$."
   ]
  },
  {
   "cell_type": "markdown",
   "metadata": {},
   "source": [
    "**In code, how would you change the function ```PolynomialRegression``` created above to include the regularization term?**"
   ]
  },
  {
   "cell_type": "code",
   "execution_count": null,
   "metadata": {},
   "outputs": [],
   "source": [
    "def PolynomialRegression_reg(x,t,M,lam):\n",
    "    \n",
    "    # Compute feature matrix X with polynomial features\n",
    "    X = ##\n",
    "    \n",
    "    # Compute the solution for the parameters w\n",
    "    w = ##\n",
    "    \n",
    "    # Compute model prediction\n",
    "    y = ##\n",
    "    \n",
    "    return "
   ]
  },
  {
   "cell_type": "code",
   "execution_count": null,
   "metadata": {},
   "outputs": [],
   "source": [
    "M = ##\n",
    "lam = ##\n",
    "\n",
    "w, y = PolynomialRegression(x_train,t_train,M) \n",
    "w_reg, y_reg = PolynomialRegression_reg(x_train,t_train,M,lam) \n",
    "\n",
    "fig=plt.figure(figsize=(10,5))\n",
    "plt.scatter(x_train,t_train, label='Training Data')\n",
    "plt.plot(x_train,y,'r', label = 'Polynomial Regression')\n",
    "plt.plot(x_train,y_reg, 'b',label = 'Polynomial Regression w/ Regularizer')\n",
    "plt.plot(x_true,t_true,'--g', label = 'True Function')\n",
    "plt.legend(bbox_to_anchor=(1.5, 1),fontsize=12,ncol=1)\n",
    "plt.xlabel('Data Samples, $x$', fontsize=20)\n",
    "plt.ylabel('Desired Labels, $t$', fontsize=20);"
   ]
  },
  {
   "cell_type": "markdown",
   "metadata": {},
   "source": [
    "# Performance Measures for Regression Tasks"
   ]
  },
  {
   "cell_type": "markdown",
   "metadata": {},
   "source": [
    "In order to determine if the model is able to **generalize** to a **validation set**, we need to determine a **performance measure**.\n",
    "\n",
    "Which measures would you use to compare model performances?"
   ]
  },
  {
   "cell_type": "markdown",
   "metadata": {},
   "source": [
    "1. Error measures are always a good start for **regression** tasks. Some examples include:\n",
    "\n",
    "    * Mean Squared Error (MSE) - best when the data does not have outliers. The MSE will penalize outliers heavily.\n",
    "\n",
    "    * Mean Absolute Error (MAE) - best when you suspect data has outliers.\n",
    "    \n",
    "    * Normalized mean squared error (NMSE).\n",
    "    \n",
    "    * Normalized mean absolute error (NMAE).\n",
    "\n",
    "2. Coefficient of Determination $r^2$\n",
    "    * Advantage: it is bounded between $[0,1]$, where values closer to 1 indicate a better prediction.\n",
    "    \n",
    "3. Quantile-Quantile plot (or Q-Q plot)\n",
    "\n",
    "    * Qualitative measurement of the model predictions vs the target values.\n",
    "    * The Q-Q plot is used to answer the following questions:\n",
    "        * Do two data sets come from populations with a common distribution?\n",
    "        * Do two data sets have common location and scale?\n",
    "        * Do two data sets have similar distributional shapes?\n",
    "        * Do two data sets have similar tail behavior?"
   ]
  },
  {
   "cell_type": "code",
   "execution_count": null,
   "metadata": {},
   "outputs": [],
   "source": [
    "## Predictions in training/test sets with and without regularization\n",
    "y_train = ##\n",
    "y_test = ##\n",
    "\n",
    "y_train_reg = ##\n",
    "y_test_reg = ##\n",
    "\n",
    "## Error Measures\n",
    "# Residual error for Training data for polynomial regression without and with regularizer\n",
    "error_train = t_train - y_train\n",
    "error_train_reg = t_train - y_train_reg \n",
    "\n",
    "# Residual error for Test data for polynomial regression without and with regularizer\n",
    "error_test = t_test - y_test\n",
    "error_test_reg = t_test - y_test_reg\n",
    "\n",
    "# Error Measures\n",
    "print('Mean Squared Error \\n')\n",
    "print('Training Set')\n",
    "print('Without regularizer: ', np.mean(error_train**2))\n",
    "print('With regularizer: ', np.mean(error_train_reg**2),'\\n')\n",
    "print('Test Set')\n",
    "print('Without regularizer: ', np.mean(error_test**2))\n",
    "print('With regularizer: ', np.mean(error_test_reg**2),'\\n')\n",
    "print('----------------------------------------------------------------')\n",
    "print('Mean Absolute Error \\n')\n",
    "print('Training Set')\n",
    "print('Without regularizer: ', np.mean(np.abs(error_train)))\n",
    "print('With regularizer: ', np.mean(np.abs(error_train_reg)),'\\n')\n",
    "print('Test Set')\n",
    "print('Without regularizer: ', np.mean(np.abs(error_test)))\n",
    "print('With regularizer: ', np.mean(np.abs(error_test_reg)),'\\n')"
   ]
  },
  {
   "cell_type": "code",
   "execution_count": null,
   "metadata": {},
   "outputs": [],
   "source": [
    "## R2-SCORE\n",
    "\n",
    "# it measures how much variance in one variance is explained by another variable \n",
    "\n",
    "from sklearn.metrics import r2_score\n",
    "\n",
    "print('Test set without regularization:', ##)\n",
    "\n",
    "print('Test set with regularization:', ##)"
   ]
  },
  {
   "cell_type": "markdown",
   "metadata": {},
   "source": [
    "The coefficient of determination $r^2$ is bounded between $[0,1]$. The closer to 1, the closer the predictions are to the target value."
   ]
  },
  {
   "cell_type": "code",
   "execution_count": null,
   "metadata": {},
   "outputs": [],
   "source": [
    "## QUANTILES\n",
    "\n",
    "\n",
    "\n",
    "# median"
   ]
  },
  {
   "cell_type": "code",
   "execution_count": null,
   "metadata": {},
   "outputs": [],
   "source": [
    "\n",
    "\n",
    "# minimum"
   ]
  },
  {
   "cell_type": "code",
   "execution_count": null,
   "metadata": {},
   "outputs": [],
   "source": [
    "\n",
    "\n",
    "# maximum"
   ]
  },
  {
   "cell_type": "code",
   "execution_count": null,
   "metadata": {},
   "outputs": [],
   "source": [
    "\n",
    "\n",
    "# multiple at a time"
   ]
  },
  {
   "cell_type": "code",
   "execution_count": null,
   "metadata": {},
   "outputs": [],
   "source": [
    "# Histogram for each RV\n",
    "\n",
    "plt.hist(t_train, alpha=0.5, label='Target')\n",
    "plt.hist(y, alpha=0.5, label='Pred. w/out reg.')\n",
    "plt.hist(y_reg, alpha=0.5, label='Pred. w/ reg.')\n",
    "plt.legend();"
   ]
  },
  {
   "cell_type": "code",
   "execution_count": null,
   "metadata": {},
   "outputs": [],
   "source": [
    "# Disply quantiles of model vs target values\n",
    "\n",
    "##\n",
    "plt.xlabel('True Quantiles')\n",
    "plt.ylabel('Predicted Quantiles')\n",
    "plt.title('Q-Q Plot');"
   ]
  },
  {
   "cell_type": "code",
   "execution_count": null,
   "metadata": {},
   "outputs": [],
   "source": [
    "# alternative way to plot the Q-Q plot\n",
    "\n"
   ]
  },
  {
   "cell_type": "code",
   "execution_count": null,
   "metadata": {},
   "outputs": [],
   "source": [
    "base = np.linspace(min(t_train)-0.1,max(t_train)+0.1,100)\n",
    "plt.plot(base,base,'r')\n",
    "plt.scatter(np.sort(t_train), np.sort(y_train))\n",
    "plt.xlabel('True Quantiles')\n",
    "plt.ylabel('Predicted Quantiles')\n",
    "plt.title('Q-Q Plot');"
   ]
  },
  {
   "cell_type": "code",
   "execution_count": null,
   "metadata": {},
   "outputs": [],
   "source": [
    "print('R2 Score for Training without regularizer:', r2_score(np.sort(t_train), np.sort(y_train)))\n",
    "\n",
    "print('R2 Score for Test without regularizer:', r2_score(np.sort(t_test), np.sort(y_test)))"
   ]
  },
  {
   "cell_type": "code",
   "execution_count": null,
   "metadata": {},
   "outputs": [],
   "source": [
    "print('R2 Score for Training with regularizer:', r2_score(np.sort(t_train), np.sort(y_train_reg)))\n",
    "\n",
    "print('R2 Score for Test with regularizer:', r2_score(np.sort(t_test), np.sort(y_test_reg)))"
   ]
  },
  {
   "cell_type": "markdown",
   "metadata": {},
   "source": [
    "In practice, we consider a good fit if the $r^2$ of the Q-Q plot if **greater than 0.9**, ideally >0.99."
   ]
  },
  {
   "cell_type": "markdown",
   "metadata": {},
   "source": [
    "## Other Performance Measures"
   ]
  },
  {
   "cell_type": "markdown",
   "metadata": {},
   "source": [
    "Performance of an algorithm can be determined using a variety of statistical goodness-of-fit measures. \n",
    "\n",
    "* For regression tasks this includes error-based measurements, hypothesis tests, Q-Q plots.\n",
    "* For classification tasks this includes error rate, accuracy, ROC curves, performance-recall curves.\n",
    "\n",
    "But it can also be in terms of:\n",
    "1. Risk,\n",
    "2. Training time,\n",
    "3. Training storage/memory,\n",
    "4. Testing time,\n",
    "5. Testing storage/memory,\n",
    "6. Interpretability, namely, whether the method allows knowledge extraction which can be checked and validated by experts, and\n",
    "7. computational complexity."
   ]
  },
  {
   "cell_type": "markdown",
   "metadata": {},
   "source": [
    "---"
   ]
  },
  {
   "cell_type": "markdown",
   "metadata": {},
   "source": [
    "# Cross-Validation"
   ]
  },
  {
   "cell_type": "markdown",
   "metadata": {},
   "source": [
    "The goal of **cross-validation**, or CV, is to test the model's ability to predict new data that was not used in estimating the model, in order to flag problems like overfitting or selection bias and to give an insight on how the model will generalize to an independent dataset (i.e., an unknown dataset).\n",
    "\n",
    "Cross-validation allows us to determine the values for the hyperparameter that provide the most **generalization**. Cross-validation mitigates the occurrrence of overfitting, but it does not eliminate it entirely.\n",
    "\n",
    "Suggested reading: \n",
    "\n",
    "* [Sections 19.1-19.6](https://ufl.instructure.com/courses/455013/external_tools/412362?display=borderless) from the Alpaydin textbook \n",
    "* [Section 5.3 Hyperparameters and Model Validation](https://jakevdp.github.io/PythonDataScienceHandbook/05.03-hyperparameters-and-model-validation.html) from the \"Python Data Science Handbook\" textbook."
   ]
  },
  {
   "cell_type": "markdown",
   "metadata": {},
   "source": [
    "## Strategies of Experimentation - Fine-Tuning Hyperparameters\n",
    "\n",
    "To fully test a system, you want to try to evaluate each of these parameters separately. However, this is often not easily done.\n",
    "\n",
    "A few strategies for fine-tuning hyperparameters include:\n",
    "\n",
    "* Best guess\n",
    "* One factor at a time\n",
    "* Factorial design or **grid search**\n",
    "* Randomized search"
   ]
  },
  {
   "cell_type": "code",
   "execution_count": 2,
   "metadata": {},
   "outputs": [
    {
     "data": {
      "image/png": "[encoded data removed]",
      "text/plain": [
       "<IPython.core.display.Image object>"
      ]
     },
     "execution_count": 2,
     "metadata": {
      "image/png": {
       "width": 800
      }
     },
     "output_type": "execute_result"
    }
   ],
   "source": [
    "Image('figures/Experimentation.png',width=800)\n",
    "# Source: Alpaydin, E. (2014) Introduction to Machine Learning. 3rd edition, MIT Press."
   ]
  },
  {
   "cell_type": "markdown",
   "metadata": {},
   "source": [
    "We first must select a **performance measure**, e.g. mean square error (MSE), coefficient of determination $r^2$. There are different strategies for implementing cross-validation:\n",
    "\n",
    "1. $k\\times 2$ cross-validation\n",
    "2. k-fold cross-validation\n",
    "3. Leave-One-Out cross-validation\n",
    "4. Stratified cross-validation"
   ]
  },
  {
   "cell_type": "markdown",
   "metadata": {},
   "source": [
    "We also need to make sure that classes are represented in the right proportions when subsets of data are held out, not to disturb the class prior probabilities; this is called **stratiﬁcation**. If a class has 20 percent examples in the whole dataset, in all samples drawn from the dataset, it should also have approximately 20 percent examples."
   ]
  },
  {
   "cell_type": "markdown",
   "metadata": {},
   "source": [
    "## $1\\times 2$ cross-validation"
   ]
  },
  {
   "cell_type": "markdown",
   "metadata": {},
   "source": [
    "Let's consider the case, where we only have a single validation set which resulted from splitting the training data into a training set and a validation set with splitting rations 70% and 30% respectively."
   ]
  },
  {
   "cell_type": "code",
   "execution_count": null,
   "metadata": {},
   "outputs": [],
   "source": [
    "from sklearn.model_selection import train_test_split\n",
    "\n",
    "x_train2, x_validation, t_train2, t_validation = train_test_split(x_train, t_train, \n",
    "                                                                  test_size=0.3,\n",
    "                                                                  shuffle=True,\n",
    "                                                                 random_state=0)\n",
    "\n",
    "x_train2.shape, x_validation.shape, t_train2.shape, t_validation.shape"
   ]
  },
  {
   "cell_type": "markdown",
   "metadata": {},
   "source": [
    "Let's now vary the values for $M$ and estimate the associated coefficients $\\mathbf{w}$ using the training set. Then, let's evaluate performance measure (e.g. MSE) in both training and validation sets:"
   ]
  },
  {
   "cell_type": "code",
   "execution_count": null,
   "metadata": {},
   "outputs": [],
   "source": [
    "# Range of values for M\n",
    "M_vals = range(1,12)\n",
    "\n",
    "perf_train = []\n",
    "perf_val = []\n",
    "for M in M_vals:\n",
    "    \n",
    "    # Train the model (without regularization for simplicity of illustration)\n",
    "    w, y_train = PolynomialRegression(x_train2, t_train2, M)\n",
    "    \n",
    "    # Make predictions for the training and validation sets\n",
    "    y_validation = PolynomialRegression_test(x_validation, w)\n",
    "    \n",
    "    # Performance Measure\n",
    "    perf_train += [np.mean(t_train2-y_train)**2]\n",
    "    perf_val += [np.mean(t_validation-y_validation)**2]\n",
    "    \n",
    "# Plotting results\n",
    "plt.figure(figsize=(10,3))\n",
    "plt.plot(M_vals, perf_train, '-og',label='Training Set')\n",
    "plt.plot(M_vals, perf_val, '-or',label='Validation Set')\n",
    "plt.legend(fontsize=15)\n",
    "plt.xlabel('Model order, $M$', size=12)\n",
    "plt.ylabel('Performance Measure', size=12);"
   ]
  },
  {
   "cell_type": "markdown",
   "metadata": {},
   "source": [
    "## K-Fold Cross-Validation"
   ]
  },
  {
   "cell_type": "markdown",
   "metadata": {},
   "source": [
    "The technique of k-fold cross-validation, illustrated below for the case of $k=4$, involves taking the available data and partitioning it into $k$ groups (in the simplest case these are of equal size). Then $k-1$ of the groups are used to train a set of models that are then evaluated on the remaining group. This procedure is then repeated for all $k$ possible choices for the held-out group, indicated in the picture below by the red blocks, and the performance scores from the runs are then averaged.\n",
    "\n",
    "$K$ is typically 10 or 30. As $K$ increases, the percentage of training instances increases and we get more robust estimators, but the validation set becomes smaller. Furthermore, there is the cost of training the classiﬁer $K$ times, which increases as $K$ is increased. As $N$ increases, $K$ can be smaller; if $N$ is small, $K$ should be large to allow large enough training sets."
   ]
  },
  {
   "cell_type": "code",
   "execution_count": 3,
   "metadata": {},
   "outputs": [
    {
     "data": {
      "image/png": "[encoded data removed]",
      "text/plain": [
       "<IPython.core.display.Image object>"
      ]
     },
     "execution_count": 3,
     "metadata": {
      "image/png": {
       "width": 400
      }
     },
     "output_type": "execute_result"
    }
   ],
   "source": [
    "Image('figures/Kfold CV.png',width=400)"
   ]
  },
  {
   "cell_type": "code",
   "execution_count": null,
   "metadata": {},
   "outputs": [],
   "source": [
    "from sklearn.model_selection import KFold\n",
    "\n",
    "KFold?"
   ]
  },
  {
   "cell_type": "markdown",
   "metadata": {},
   "source": [
    "**Goal:** find the best value for the **hyperparameters** $M$ (model order) and $\\lambda$ (regularization trade-off parameter).\n",
    "\n",
    "Let's use **4-fold cross-validation** on this data:"
   ]
  },
  {
   "cell_type": "code",
   "execution_count": null,
   "metadata": {},
   "outputs": [],
   "source": [
    "k = 4 # number of folds\n",
    "\n",
    "kf = KFold(n_splits=k,shuffle=True, random_state=0)\n",
    "kf"
   ]
  },
  {
   "cell_type": "code",
   "execution_count": null,
   "metadata": {},
   "outputs": [],
   "source": [
    "# Split training feature matrix into training and validation sets\n",
    "\n",
    "f=1\n",
    "for train_index, validation_index in kf.split(x_train):\n",
    "    print('Fold ', f)\n",
    "    print('The training set has ', train_index.shape[0],' samples')\n",
    "    print('Their index locations are: ', train_index)\n",
    "    print('The validation set has ', validation_index.shape[0],' samples')\n",
    "    print('Their index locations are: ', validation_index,'\\n')\n",
    "    f+=1"
   ]
  },
  {
   "cell_type": "code",
   "execution_count": null,
   "metadata": {
    "scrolled": true
   },
   "outputs": [],
   "source": [
    "from sklearn.metrics import r2_score\n",
    "\n",
    "# Set of values for lambda to explore\n",
    "M_vals = np.array([2,3,4,5,6,7])\n",
    "lam_vals= np.arange(0.1,1.1,0.1)\n",
    "\n",
    "perf_train = np.zeros((len(M_vals), len(lam_vals)))\n",
    "perf_val   = np.zeros((len(M_vals), len(lam_vals)))\n",
    "\n",
    "for i in range(len(M_vals)):\n",
    "    for j in range(len(lam_vals)):\n",
    "\n",
    "        M   = M_vals[i]\n",
    "        lam = lam_vals[j]\n",
    "        print('M Value = ',M)\n",
    "        print('Lambda Value = ',lam)\n",
    "\n",
    "        # For each training/validation split\n",
    "        f=1\n",
    "\n",
    "        #initialize performance measures\n",
    "        perf_train_avg, perf_val_avg = 0, 0\n",
    "\n",
    "        for train_index, validation_index in kf.split(x_train):\n",
    "            print('\\nFold ',f)\n",
    "\n",
    "            # Select training set using the indices found from kf.split\n",
    "            x_train2, x_validation = x_train[train_index], x_train[validation_index]\n",
    "\n",
    "            # Select validation set using the indices found from kf.split\n",
    "            t_train2, t_validation = t_train[train_index], t_train[validation_index]\n",
    "\n",
    "            # Training model with training set\n",
    "            w, y_train = PolynomialRegression_reg(x_train2, t_train2, M, lam)\n",
    "\n",
    "            # Evaluate trained model in validation set\n",
    "            y_val = PolynomialRegression_test(x_validation, w)\n",
    "\n",
    "            # Performance Measure\n",
    "            perf_train[i,j] = r2_score(t_train2,y_train) #np.mean((t_train2-y_train)**2)\n",
    "            perf_val[i,j]   = r2_score(t_validation, y_val) #np.mean((t_validation-y_val)**2)\n",
    "\n",
    "            # Average performance measure\n",
    "            perf_train_avg = perf_train_avg + perf_train[i,j]\n",
    "            perf_val_avg = perf_val_avg + perf_val[i,j]\n",
    "            print('Performance Training = ', perf_train[i,j])\n",
    "            print('Performance Validation = ', perf_val[i,j])\n",
    "            f+=1\n",
    "\n",
    "        print('\\nAverage Performance in Training = ', perf_train_avg/k)\n",
    "        print('Average Performance in Validation = ', perf_val_avg/k)\n",
    "        print('-----------------------------------------------------\\n')"
   ]
  },
  {
   "cell_type": "code",
   "execution_count": null,
   "metadata": {},
   "outputs": [],
   "source": [
    "# Note that we should be looking for the maximum r2-score (or minimum MSE).\n",
    "\n"
   ]
  },
  {
   "cell_type": "code",
   "execution_count": null,
   "metadata": {},
   "outputs": [],
   "source": [
    "plt.figure(figsize=(10,5))\n",
    "plt.imshow(perf_val.T)\n",
    "plt.yticks(range(len(lam_vals)), lam_vals)\n",
    "plt.xticks(range(len(M_vals)), M_vals)\n",
    "plt.colorbar()\n",
    "plt.xlabel('Model order, $M$', size=15)\n",
    "plt.ylabel('Lambda values, $\\lambda$', size=15)\n",
    "plt.title('Performance Measure in Validation');"
   ]
  },
  {
   "cell_type": "markdown",
   "metadata": {},
   "source": [
    "## Refit the Model"
   ]
  },
  {
   "cell_type": "markdown",
   "metadata": {},
   "source": [
    "Once the optimal hyperaparameters have been identified, the final model is trained using **all of the training data** (including the samples previously used for validation)."
   ]
  },
  {
   "cell_type": "code",
   "execution_count": null,
   "metadata": {},
   "outputs": [],
   "source": [
    "best_M = ##\n",
    "best_lam = ##\n",
    "\n",
    "w, y_train = PolynomialRegression_reg(x_train, t_train, best_M, best_lam)\n",
    "\n",
    "fig=plt.figure(figsize=(10,5))\n",
    "plt.scatter(x_train,t_train, label='Training Data')\n",
    "plt.plot(x_train,y_train,'r', label = 'Best Polynomial Regression Model')\n",
    "plt.plot(x_true,t_true,'--g', label = 'True Function')\n",
    "plt.legend(bbox_to_anchor=(1.5, 1),fontsize=12,ncol=1)\n",
    "plt.xlabel('Data Samples, $x$', fontsize=20)\n",
    "plt.ylabel('Desired Labels, $t$', fontsize=20);"
   ]
  },
  {
   "cell_type": "markdown",
   "metadata": {},
   "source": [
    "#### Discussion\n",
    "\n",
    "* We select the set of hyperparameters $\\{M,\\lambda\\}$ with the best performance score (e.g. smallest MSE or largest $r^2$).\n",
    "\n",
    "* If the value of the hyperparameter falls at the edge of provided range of values, it is appropriate to expand the range of values for further exploration.\n",
    "\n",
    "* Other performance measures can be used, for example, the coefficient of determination of the Q-Q plot for regression tasks, or accuracy score for classification tasks."
   ]
  },
  {
   "cell_type": "markdown",
   "metadata": {},
   "source": [
    "---"
   ]
  },
  {
   "cell_type": "markdown",
   "metadata": {},
   "source": [
    "## Leave-One-Out Cross-Validation"
   ]
  },
  {
   "cell_type": "markdown",
   "metadata": {},
   "source": [
    "One extreme case of cross-validation is the **leave-one-out** where given a dataset of $N$ instances, only one instance is left out as the validation set (instance) and training uses the $N − 1$ instances. We then get $N$ separate pairs by leaving out a different instance at each iteration. This is typically used in applications such as medical diagnosis, where labeled data is hard to ﬁnd. Leave-one-out **does not permit stratiﬁcation**."
   ]
  },
  {
   "cell_type": "markdown",
   "metadata": {},
   "source": [
    "---"
   ]
  },
  {
   "cell_type": "markdown",
   "metadata": {},
   "source": [
    "<div class=\"alert alert-info\">\n",
    "    <b>No Free Lunch Theorem</b> \n",
    "\n",
    "The No Free Lunch Theorem states that there is no single learning algorithm that in any domain always induces the most accurate learner. The usual approach is to try many and choose the one that performs the best on a separate validation set.\n",
    "    \n",
    "For any learning algorithm, there is a dataset where it is very accurate and another dataset where it is very poor. When we say that a learning algorithm is good, we only quantify how well its inductive bias matches the properties of the data.\n",
    "</div>"
   ]
  },
  {
   "cell_type": "markdown",
   "metadata": {},
   "source": [
    "---"
   ]
  }
 ],
 "metadata": {
  "kernelspec": {
   "display_name": "Python 3 (ipykernel)",
   "language": "python",
   "name": "python3"
  },
  "language_info": {
   "codemirror_mode": {
    "name": "ipython",
    "version": 3
   },
   "file_extension": ".py",
   "mimetype": "text/x-python",
   "name": "python",
   "nbconvert_exporter": "python",
   "pygments_lexer": "ipython3",
   "version": "3.11.9"
  },
  "latex_envs": {
   "LaTeX_envs_menu_present": true,
   "autoclose": false,
   "autocomplete": true,
   "bibliofile": "biblio.bib",
   "cite_by": "apalike",
   "current_citInitial": 1,
   "eqLabelWithNumbers": true,
   "eqNumInitial": 1,
   "hotkeys": {
    "equation": "Ctrl-E",
    "itemize": "Ctrl-I"
   },
   "labels_anchors": false,
   "latex_user_defs": false,
   "report_style_numbering": false,
   "user_envs_cfg": false
  },
  "varInspector": {
   "cols": {
    "lenName": 16,
    "lenType": 16,
    "lenVar": 40
   },
   "kernels_config": {
    "python": {
     "delete_cmd_postfix": "",
     "delete_cmd_prefix": "del ",
     "library": "var_list.py",
     "varRefreshCmd": "print(var_dic_list())"
    },
    "r": {
     "delete_cmd_postfix": ") ",
     "delete_cmd_prefix": "rm(",
     "library": "var_list.r",
     "varRefreshCmd": "cat(var_dic_list()) "
    }
   },
   "types_to_exclude": [
    "module",
    "function",
    "builtin_function_or_method",
    "instance",
    "_Feature"
   ],
   "window_display": false
  }
 },
 "nbformat": 4,
 "nbformat_minor": 4
}
