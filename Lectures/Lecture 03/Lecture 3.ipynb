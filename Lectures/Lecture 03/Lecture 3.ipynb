{
 "cells": [
  {
   "cell_type": "markdown",
   "metadata": {},
   "source": [
    "# Lecture 3 - Introduction to Supervised Learning with (Polynomial) Linear Regression, Code Implementation & Overfitting"
   ]
  },
  {
   "cell_type": "markdown",
   "metadata": {},
   "source": [
    "---"
   ]
  },
  {
   "cell_type": "markdown",
   "metadata": {},
   "source": [
    "# Linear Regression with Polynomial Features (or *Polynomial Regression*)"
   ]
  },
  {
   "cell_type": "markdown",
   "metadata": {},
   "source": [
    "Let's begin by considering the polynomial curve fitting example in the first chapter of the Bishop textbook.\n",
    "\n",
    "* A regression task is a supervised learning task.\n",
    "* The target labels are continuous.\n",
    "* Linear regression is *linear* on the parameters, that is, linear regression is a linear combination of features (which may not be linear themselves).\n",
    "* If the features are extracted with polynomial basis function, we call the linear regression model a **polynomial regression** model.\n",
    "\n",
    "<div class=\"alert alert-info\">\n",
    "\n",
    "**Polynomial Regression** is a type of liner regression that uses a special set of *features* - polynomial features.\n",
    "</div>"
   ]
  },
  {
   "cell_type": "markdown",
   "metadata": {},
   "source": [
    "<div class=\"alert alert-success\">\n",
    "    <b>Step 1 - Input Space</b> \n",
    "\n",
    "Suppose we are given a training set comprising of $N$ observations of $\\mathbf{x}$, $\\mathbf{x} = \\left[x_1, x_2, \\ldots, x_N \\right]^T$, and its corresponding target outputs $\\mathbf{t} = \\left[t_1, t_2, \\ldots, t_N\\right]^T$, where sample $x_i$ has the target output label $t_i$.\n",
    "\n",
    "So, we want to learn the *true* function mapping $f$ such that $\\mathbf{t}  = f(\\mathbf{x}, \\mathbf{w})$, where $\\mathbf{w}$ are parameters of the model.\n",
    "</div>"
   ]
  },
  {
   "cell_type": "markdown",
   "metadata": {},
   "source": [
    "* Note that both the training data and target outputs can be noisy. Sometimes the target outputs can be mislabeled, so it is important to apply \n",
    "\n",
    "* We generally organize data into *matrices* and *vectors*. Not only is it a common way to organize the data, but it allows us to easily apply algebraic operations during analysis. It also makes it much simpler when it comes to code implementation!\n",
    "    * In most engineering textbooks and in this course, **vectors** are defined as *column vectors*. This is why we write $\\mathbf{x} = \\left[x_1, x_2, \\ldots, x_N \\right]^T$."
   ]
  },
  {
   "cell_type": "markdown",
   "metadata": {},
   "source": [
    "<div class=\"alert alert-success\">\n",
    "    <b>Step 2 - Feature Extraction</b> \n",
    "\n",
    "Let's consider *polynomial features* for each data point $x_i$, $\\phi(x_i)$. We define $\\phi(\\cdot)$ as the **polynomial basis function** of order $M$: $\\phi(x_i) = \\left[x_{i}^{0}, x_{i}^{1}, x_{i}^{2}, \\dots, x_{i}^M\\right]^T$.\n",
    "</div>"
   ]
  },
  {
   "cell_type": "markdown",
   "metadata": {},
   "source": [
    "* Other features can be extracted. These can be other basis functions, but can also be extracted by constructing custom coding scripts. Other **basis functions** include:\n",
    "\n",
    "    * Polynomials Basis functions: $\\phi_j(x) = x^j$\n",
    "\n",
    "    * Radial Basis functions: $\\phi_j(x) = \\exp\\left\\{-\\frac{(x-\\mu_j)^2)}{2s^2}\\right\\}$\n",
    "\n",
    "    * Sigmoidal basis function: $\\phi_j(x) = \\sigma\\left(\\frac{x-\\mu_j}{s}\\right)$, where $\\sigma(a)$ is the logistic sigmoid function defined by $\\sigma(a)=\\frac{1}{1+\\exp(-a)}$\n",
    "\n",
    "    * Fourier Basis functions, which leads to an expansion in sinusoidal functions. Each basis function represents a specific frequency and has infinite spatial extent\n",
    "\n",
    "    * Wavelets Basis Functions, representing both space and frequency"
   ]
  },
  {
   "cell_type": "code",
   "execution_count": null,
   "metadata": {},
   "outputs": [],
   "source": [
    "import numpy as np\n",
    "import matplotlib.pyplot as plt\n",
    "%matplotlib inline\n",
    "plt.style.use('bmh')"
   ]
  },
  {
   "cell_type": "code",
   "execution_count": null,
   "metadata": {},
   "outputs": [],
   "source": [
    "# Basis Functions\n",
    "x=np.linspace(-1,1,1000)\n",
    "\n",
    "fig = plt.figure(figsize=(20,6))\n",
    "plt.subplot(1,3,1)\n",
    "polynomials=np.array([x**i for i in range(1,10)]).T # Polynomial Basis Functions\n",
    "plt.plot(x, polynomials); plt.title('Polynomial Basis Functions')\n",
    "\n",
    "plt.subplot(1,3,2)\n",
    "sig=0.3 #fixed standard deviation for each Gaussian basis function\n",
    "polynomials=np.array([np.exp(-(x-i)**2/(2*sig**2)) for i in np.linspace(-1,1,10)]).T # Gaussian Basis Functions\n",
    "plt.plot(x, polynomials); plt.title('Gaussian Basis Functions')\n",
    "\n",
    "plt.subplot(1,3,3)\n",
    "sig=0.05 #fixed standard deviation for each sigmoidal basis function\n",
    "polynomials=np.array([1/(1+np.exp(-(x-i)/sig)) for i in np.linspace(-1,1,10)]).T # Sigmoidal Basis Functions\n",
    "plt.plot(x, polynomials); plt.title('Sigmoidal Basis Functions')\n",
    "\n",
    "legend_labels=['$\\phi_0(x)$','$\\phi_1(x)$','$\\phi_2(x)$','$\\phi_3(x)$','$\\phi_4(x)$','$\\phi_5(x)$',\n",
    "           '$\\phi_6(x)$','$\\phi_7(x)$','$\\phi_8(x)$','$\\phi_9(x)$','$\\phi_{10}(x)$']\n",
    "fig.legend(legend_labels, loc = (0.1, 0), ncol=11, fontsize=13);"
   ]
  },
  {
   "cell_type": "markdown",
   "metadata": {},
   "source": [
    "<div class=\"alert alert-info\">\n",
    "    <b>Feature Space</b> \n",
    "\n",
    "The set of features drawn by the transformation \n",
    "\n",
    "\\begin{align*}\n",
    "\\phi: \\mathbb{R} & \\rightarrow \\mathbb{R}^{M+1} \\\\\n",
    "x & \\rightarrow [\\phi_0(x), \\phi_1(x), \\phi_2(x), ..., \\phi_M(x)]\n",
    "\\end{align*}\n",
    "is often called the **feature space**.\n",
    "When we write a linear regression with respect to a set of basis functions, the regression model is linear in the *feature space*.\n",
    "\n",
    "In this case, the dimensionality of the feature space is $M+1$. This is often referred to as the *model order*.\n",
    "</div>"
   ]
  },
  {
   "cell_type": "markdown",
   "metadata": {},
   "source": [
    "* The **feature matrix** $\\mathbf{X}$ is a matrix containing all feature mappings for all samples $\\{x_i\\}_{i=1}^N$ and can be written as:\n",
    "\n",
    "\\begin{align*}\n",
    "\\mathbf{X} =\\left[\\begin{array}{c} \\phi(x_1)^T \\\\ \\phi(x_2)^T \\\\ \\vdots \\\\ \\phi(x_N)^T \\end{array}\\right]  = \\left[\\begin{array}{ccccc}\n",
    "1 & x_{1} & x_{1}^{2} & \\cdots & x_{1}^{M}\\\\\n",
    "1 & x_{2} & x_{2}^{2} & \\cdots & x_{2}^{M}\\\\\n",
    "\\vdots & \\vdots & \\vdots & \\ddots & \\vdots\\\\\n",
    "1 & x_{N} & x_{N}^{2} & \\cdots & x_{N}^{M}\n",
    "\\end{array}\\right] \\in \\mathbb{R}^{N\\times (M+1)}\n",
    "\\end{align*}\n",
    "\n",
    "where each row is a feature representation of a data point $x_i$.\n",
    "\n",
    "* Our goal is to find the mapping from the feature input data $\\mathbf{X}$ to the desired output values $\\mathbf{t}$."
   ]
  },
  {
   "cell_type": "markdown",
   "metadata": {},
   "source": [
    "Suppose the data actually comes from some **unknown hidden function**, that takes in the data points $\\mathbf{x}$ with some parameters $\\mathbf{w}$ and produces the desired values $\\mathbf{t}$, i.e. $\\mathbf{t} = f(\\mathbf{x},\\mathbf{w})$.\n",
    "* We do not know anything about the function $f$. If we knew the hidden function, we would not need to learn the *mapping* - we would already know it. However, since we do not know the true underlying function, we need to do our best to estimate from the examples of input-output pairs that we have."
   ]
  },
  {
   "cell_type": "markdown",
   "metadata": {},
   "source": [
    "<div class=\"alert alert-success\">\n",
    "    <b>Step 3 - Model Selection or Mapping</b> \n",
    "\n",
    "Let's assume that the desired output values are a *linear combination* of the feature input space, i.e., the **polynomial function**\n",
    "\n",
    "\\begin{align*}\n",
    "t \\sim y(x,\\mathbf{w}) = w_0x^0 + w_1x^1 + w_2x^2+\\cdots+w_Mx^M = \\sum_{j=0}^{M} w_jx^j = \\mathbf{X}\\mathbf{w}\n",
    "\\end{align*}\n",
    "</div>\n",
    "\n",
    "* This means that for every paired training data point $\\{(x_i, t_i)\\}_{i=1}^N$, we can model the output value as \n",
    "\n",
    "\\begin{align*}\n",
    "t_i \\sim y(x_i,\\mathbf{w}) = w_0x_i^0 + w_1x_i^1 + w_2x_i^2+\\cdots+w_Mx_i^M\n",
    "\\end{align*}\n",
    "\n",
    "* Although the polynomial function $y(x,\\mathbf{w})$ is a nonlinear function of $x$, it is a **linear function of the parameters $\\mathbf{w}$**. Functions, such as the polynomial, which are linear in the unknown parameters have important properties and are called *linear models*."
   ]
  },
  {
   "cell_type": "markdown",
   "metadata": {},
   "source": [
    "The **linear basis model** for regression takes linear combinations of deterministic nonlinear functions of the input variables\n",
    "\n",
    "\\begin{align*}\n",
    "t \\sim y(x,\\mathbf{w}) = w_0 + \\sum_{j=1}^{M} w_j\\phi_j(x)\n",
    "\\end{align*}\n",
    "\n",
    "* The parameter $w_0$ allows for any fixed offset in the data and is sometimes called a *bias* parameter. \n",
    "\n",
    "* It is often convenient to include an additional dummy *basis function* $\\phi_0(x) = 1$ so that\n",
    "\n",
    "\\begin{align*}\n",
    "t \\sim y(x,\\mathbf{w}) = \\sum_{j=0}^{M} w_j\\phi_j(x) = \\mathbf{X}\\mathbf{w}\n",
    "\\end{align*}\n",
    "where $\\mathbf{w} = \\left[w_{0}, w_{1}, \\ldots, w_M\\right]^T$, $\\mathbf{\\phi} = \\left[\\phi_{0}, \\phi_{1}, \\ldots, \\phi_M\\right]^T$ and $\\mathbf{X} = \\left[\\begin{array}{ccccc}  1 & x_{1} & x_{1}^{2} & \\cdots & x_{1}^{M}\\\\ 1 & x_{2} & x_{2}^{2} & \\cdots & x_{2}^{M}\\\\ \\vdots & \\vdots & \\vdots & \\ddots & \\vdots\\\\ 1 & x_{N} & x_{N}^{2} & \\cdots & x_{N}^{M} \\end{array}\\right]$.\n",
    "</div>\n",
    "\n",
    "* The example of the **polynomial regression** is a particular example of this model in which there is a single input variable $x$, and the basis functions take the form of powers of $x$ so that $\\phi_j(x)=x^j$. "
   ]
  },
  {
   "cell_type": "markdown",
   "metadata": {},
   "source": [
    "The values of the coefficients $\\mathbf{w}$ will be determined by *fitting* the polynomial regression model to the training data (or simply **training the model**).\n",
    "\n",
    "This can be done by minimizing an **objective function** (also defined as **cost function**, **error function**, or **loss function**) that measures the *misfit* between the function $y(x,\\mathbf{w})$, for any given value of $\\mathbf{w}$, and the training set data points $\\{(x_i,t_i)\\}_{i=1}^N$.\n",
    "\n",
    "* What is the model's *objective* or goal?"
   ]
  },
  {
   "cell_type": "code",
   "execution_count": 1,
   "metadata": {},
   "outputs": [
    {
     "data": {
      "image/png": "[encoded data removed]",
      "text/plain": [
       "<IPython.core.display.Image object>"
      ]
     },
     "execution_count": 1,
     "metadata": {
      "image/png": {
       "width": 400
      }
     },
     "output_type": "execute_result"
    }
   ],
   "source": [
    "from IPython.display import Image\n",
    "Image('figures/LeastSquares.png', width=400)\n",
    "\n",
    "#Source: Christopher M. Bishop. Pattern recognition and machine learning. Springer, 2006."
   ]
  },
  {
   "cell_type": "markdown",
   "metadata": {},
   "source": [
    "One simple choice for fitting the model is to consider the error function given by the sum of the squares of the errors between the predictions $y(x_i,\\mathbf{w})$ for each data point $x_i$ and the corresponding target values $t_i$, so that we minimize\n",
    "\n",
    "\\begin{align*} J(\\mathbf{w}) &= \\frac{1}{2} \\sum_{n=1}^N \\left(t_n - y(x_n,\\mathbf{w})\\right)^2 \\\\\n",
    "&= \\frac{1}{2} \\sum_{n=1}^N \\left(t_n - \\sum_{j=0}^{M} w_jx_n^j\\right)^2\\\\\n",
    "&= \\frac{1}{2} \\sum_{n=1}^N \\left(t_n - \\phi(\\mathbf{x}_n)^T\\mathbf{w}\\right)^2\\\\\n",
    "&= \\frac{1}{2}\\left\\Vert \\mathbf{t} - \\mathbf{X}\\mathbf{w} \\right\\Vert^2_2\\\\\n",
    "&= \\frac{1}{2}\\left\\Vert \\mathbf{t} - \\mathbf{y} \\right\\Vert^2_2\n",
    "\\end{align*}\n",
    "\n",
    "Other objective functions can be considered, for example, the absolute value of the absolute error is often used for sparsity concerns. But we will come back to this topic and discuss it further."
   ]
  },
  {
   "cell_type": "markdown",
   "metadata": {},
   "source": [
    "<div class=\"alert alert-success\">\n",
    "    <b>Step 4 - Objective Function</b> \n",
    "\n",
    "This is the measure we want to optimize, that is, minimize (if it is an error function) or maximize if it is a reward function. The objective function can take many forms, for example, the **least squares error** or **mean least squares error**.\n",
    "\n",
    "\\begin{align*}\n",
    "J(\\mathbf{w}) = \\frac{1}{2}\\left\\Vert \\mathbf{t} - \\mathbf{y} \\right\\Vert^2_2\n",
    "\\end{align*}\n",
    "\n",
    "</div>\n",
    "\n",
    "* Note that $J(\\mathbf{w})$ is a scalar value.\n",
    "\n",
    "* This objective function is minimizing the error of projection (orthogonal distance to the curve).\n",
    "\n",
    "* We can rewrite the objective function compactly in matrix/vector form:\n",
    "\\begin{align*}\n",
    "J(\\mathbf{w}) &= \\frac{1}{2}\\left\\Vert \\mathbf{t} - \\mathbf{y} \\right\\Vert^2_2 \\\\\n",
    "&= \\frac{1}{2} \\left\\Vert \\mathbf{t} - \\mathbf{X}\\mathbf{w} \\right\\Vert^2_2\\\\\n",
    "&= \\frac{1}{2} \\left(\\mathbf{t}-\\mathbf{X}\\mathbf{w} \\right)^T \\left(\\mathbf{t}-\\mathbf{X}\\mathbf{w}\\right)\\\\\n",
    "\\text{where } & \\mathbf{X} = \\left[\\begin{array}{ccccc}\n",
    "1 & x_{1} & x_{1}^{2} & \\cdots & x_{1}^{M}\\\\\n",
    "1 & x_{2} & x_{2}^{2} & \\cdots & x_{2}^{M}\\\\\n",
    "\\vdots & \\vdots & \\vdots & \\ddots & \\vdots\\\\\n",
    "1 & x_{N} & x_{N}^{2} & \\cdots & x_{N}^{M}\n",
    "\\end{array}\\right], \\mathbf{w} =  \\left[\\begin{array}{c}\n",
    "w_{0}\\\\\n",
    "w_{1}\\\\\n",
    "\\vdots\\\\\n",
    "w_{M}\n",
    "\\end{array}\\right], \\text{and }  \\mathbf{t} = \\left[\\begin{array}{c}\n",
    "t_{1}\\\\\n",
    "t_{2}\\\\\n",
    "\\vdots\\\\\n",
    "t_{N}\n",
    "\\end{array}\\right]\n",
    "\\end{align*}\n",
    "\n",
    "* Recall that $\\left\\Vert \\mathbf{z} \\right\\Vert_p$ is called the *p-norm* of the vector $\\mathbf{z}$ and is defined as $\\left(z_1^p + z_2^p + \\cdots + z_N^p\\right)^{\\frac{1}{p}}$."
   ]
  },
  {
   "cell_type": "markdown",
   "metadata": {},
   "source": [
    "<div class=\"alert alert-success\">\n",
    "    <b>Step 5 - Learning Algorithm</b> \n",
    "\n",
    "We *fit* the polynomial function model such that the *objective function* $J(\\mathbf{w})$ is optimized.\n",
    "\n",
    "\\begin{align*}\n",
    "J(\\mathbf{w}) = \\frac{1}{2}\\left\\Vert \\mathbf{t} - \\mathbf{X}\\mathbf{w} \\right\\Vert^2_2\n",
    "\\end{align*}\n",
    "\n",
    "The optimization problem is posed as:\n",
    "\\begin{align*}\n",
    "\\arg_{\\mathbf{w}}\\min J(\\mathbf{w})\n",
    "\\end{align*}\n",
    "\n",
    "This reads \"find the argument $\\mathbf{w}$ that minimizes the objective function $J(\\mathbf{w})$\".\n",
    "</div>\n",
    "\n",
    "* Optimizing the objective function $J(\\mathbf{w})$ is finding the *optimal* set of parameter $\\mathbf{w}^*$ that minimize the objective function.\n",
    "\n",
    "* To do that, we **take the derivative of $J(\\mathbf{w})$ with respect to the parameters $\\mathbf{w}$**.\n",
    "\n",
    "* How do you take the derivative of a *scalar*, such as $J(\\mathbf{w})$, with respect to a vector, such as $\\mathbf{w}$?\n",
    "\n",
    "    * What is the derivative of a scalar with respect to a vector?"
   ]
  },
  {
   "cell_type": "markdown",
   "metadata": {},
   "source": [
    "* The derivative of the scalar $J(\\mathbf{w})$ with respect to the vector $\\mathbf{w}=[w_0,w_1,\\dots,w_M]^T$ is a **vector**, and it corresponds to take the derivative of $J(\\mathbf{w})$ with respect to every element in $\\mathbf{w}$:\n",
    "\n",
    "\\begin{align*}\n",
    "\\frac{\\partial J(\\mathbf{w})}{\\partial \\mathbf{w}} = \\left[ \\frac{\\partial J(\\mathbf{w})}{\\partial w_0},  \\frac{\\partial J(\\mathbf{w})}{\\partial w_1}, \\ldots,  \\frac{\\partial J(\\mathbf{w})}{\\partial w_M} \\right]^T\n",
    "\\end{align*}\n",
    "\n",
    "* If we rewrite the objective function as:\n",
    "\\begin{align*}\n",
    "J(\\mathbf{w}) &= \\frac{1}{2} \\left(\\mathbf{t}- \\mathbf{X}\\mathbf{w}\\right)^T\\left(\\mathbf{t}- \\mathbf{X}\\mathbf{w}\\right) \\\\\n",
    "& = \\frac{1}{2} \\left(\\mathbf{t}^T - \\mathbf{w}^T\\mathbf{X}^T\\right)\\left(\\mathbf{t} - \\mathbf{X}\\mathbf{w} \\right) \\\\\n",
    "& = \\frac{1}{2} \\left( \\mathbf{t}^T\\mathbf{t} - \\mathbf{t}^T\\mathbf{X}\\mathbf{w} - \\mathbf{w}^T\\mathbf{X}^T \\mathbf{t} + \\mathbf{w}^T\\mathbf{X}^T\\mathbf{X}\\mathbf{w} \\right)\n",
    "\\end{align*}"
   ]
  },
  {
   "cell_type": "markdown",
   "metadata": {},
   "source": [
    "* Solving for $\\mathbf{w}$, we find:\n",
    "\n",
    "\\begin{align*}\n",
    "\\frac{\\partial J(\\mathbf{w})}{\\partial \\mathbf{w}} &= 0 \\\\\n",
    "\\frac{\\partial }{\\partial \\mathbf{w}} \\left[\\frac{1}{2} \\left(\\mathbf{t}^T\\mathbf{t} - \\mathbf{t}^T\\mathbf{X}\\mathbf{w} - \\mathbf{w}^T\\mathbf{X}^T \\mathbf{t} + \\mathbf{w}^T\\mathbf{X}^T\\mathbf{X}\\mathbf{w} \\right) \\right] &= 0 \\\\\n",
    "\\frac{\\partial }{\\partial \\mathbf{w}} \\left[ \\left(\\mathbf{t}^T\\mathbf{t} - \\mathbf{t}^T\\mathbf{X}\\mathbf{w} - \\mathbf{w}^T\\mathbf{X}^T \\mathbf{t} + \\mathbf{w}^T\\mathbf{X}^T\\mathbf{X}\\mathbf{w} \\right) \\right] &= 0 \\\\\n",
    "- \\mathbf{t}^T\\mathbf{X} - (\\mathbf{X}^T \\mathbf{t})^T + (\\mathbf{X}^T\\mathbf{X}\\mathbf{w})^T + \\mathbf{w}^T\\mathbf{X}^T\\mathbf{X} &=0 \\\\\n",
    "\\mathbf{w}^T\\mathbf{X}^T\\mathbf{X} + \\mathbf{w}^T\\mathbf{X}^T\\mathbf{X} - \\mathbf{t}^T\\mathbf{X} - \\mathbf{t}^T\\mathbf{X} &= 0\\\\\n",
    "2 \\mathbf{w}^T\\mathbf{X}^T\\mathbf{X} &= 2 \\mathbf{t}^T\\mathbf{X} \\\\\n",
    "(\\mathbf{w}^T\\mathbf{X}^T\\mathbf{X})^T &= (\\mathbf{t}^T\\mathbf{X})^T\\text{, apply transpose on both sides} \\\\\n",
    "\\mathbf{X}^T\\mathbf{X}\\mathbf{w} &= \\mathbf{X}^T\\mathbf{t} \\\\\n",
    "\\mathbf{w} &= \\left(\\mathbf{X}^T\\mathbf{X}\\right)^{-1}\\mathbf{X}^T\\mathbf{t}\n",
    "\\end{align*}\n",
    "\n",
    "* This gives us the optimal set of parameters $\\mathbf{w}$ that minimize the objective function $J(\\mathbf{w})$."
   ]
  },
  {
   "cell_type": "markdown",
   "metadata": {},
   "source": [
    "**Test Data**\n",
    "\n",
    "After the model is trained (i.e. complete optimization of error function using the training labeled data), the **goal** is to *predict* the output values to *new*, unseen and unlabeled test data.\n",
    "\n",
    "The steps in the test data are:\n",
    "* Step 1: Extract (the same) features\n",
    "* Step 2: Run through the trained model using the optimal set of parameters $\\mathbf{w}$ to computer the output prediction value"
   ]
  },
  {
   "cell_type": "markdown",
   "metadata": {},
   "source": [
    "---"
   ]
  },
  {
   "cell_type": "markdown",
   "metadata": {},
   "source": [
    "# Code Implementation"
   ]
  },
  {
   "cell_type": "markdown",
   "metadata": {},
   "source": [
    "**What can you control?** \n",
    "\n",
    "* Feature vectors or *basis functions*, and\n",
    "* Model order, $M$."
   ]
  },
  {
   "cell_type": "markdown",
   "metadata": {},
   "source": [
    "### Example: Input Data is sampled from a (noisy) sine curve "
   ]
  },
  {
   "cell_type": "markdown",
   "metadata": {},
   "source": [
    "Suppose our data comes from a noisy sinusoidal: $t = \\sin(2\\pi x) + \\epsilon$ where $\\epsilon$ is a (univariate) Gaussian zero-mean random noise. \n",
    "\n",
    "* The univariate Gaussian Distribution is defined as:\n",
    "\\begin{align*}\n",
    "\\mathcal{N}(x | \\mu, \\sigma^2) = \\frac{1}{(2\\pi \\sigma^2)^{1/2}} \\exp\\left\\{ - \\frac{(x - \\mu)^2}{2\\sigma^2}\\right\\}\n",
    "\\end{align*}\n",
    "\n",
    "where $\\mu$ is the mean and $\\sigma^2$ is the variance. \n",
    "\n",
    "* If the noise is zero-mean Gaussian distributed, it is like we are saying there is a Gaussian around the true curve: \n",
    "\n",
    "\\begin{align*}\n",
    "t = y + \\epsilon\n",
    "\\end{align*}\n",
    "\n",
    "Let's generate data from the *true* underlying function (which, in practice, we would not know)."
   ]
  },
  {
   "cell_type": "code",
   "execution_count": null,
   "metadata": {},
   "outputs": [],
   "source": [
    "def NoisySinusoidalData(N, a, b, sigma):\n",
    "    '''Generates N data points in the range [a,b) sampled from a sin(2*pi*x) \n",
    "    with additive zero-mean Gaussian random noise with standard deviation sigma'''\n",
    "    \n",
    "    # N input samples, evenly spaced numbers between [a,b) incrementing by 1/N\n",
    "    x = np.linspace(a,b,N)\n",
    "    \n",
    "    # draw N sampled from a univariate Gaussian distribution with mean 0, sigma standard deviation and N data points\n",
    "    noise = np.random.normal(0,sigma,N)\n",
    "    \n",
    "    # desired values, noisy sinusoidal\n",
    "    t = np.sin(2*np.pi*x) + noise\n",
    "    \n",
    "    return x, t"
   ]
  },
  {
   "cell_type": "code",
   "execution_count": null,
   "metadata": {},
   "outputs": [],
   "source": [
    "# Generate input samples and desired values\n",
    "N_train = 70 # number of data samples for training\n",
    "N_test = 20 # number of data samples for test\n",
    "\n",
    "a, b = [0,1] # data samples interval\n",
    "\n",
    "sigma_train = 0.4 # standard deviation of the zero-mean Gaussian noise -- training data\n",
    "sigma_test = 0.5 # standard deviation of the zero-mean Gaussian noise -- test data\n",
    "\n",
    "x_train, t_train = NoisySinusoidalData(N_train, a, b, sigma_train) # Training Data - Noisy sinusoidal\n",
    "x_true, t_true = NoisySinusoidalData(N_train, a, b, 0) # True Sinusoidal - in practice, we don't have the true fct\n",
    "x_test, t_test = NoisySinusoidalData(N_test, a, b, sigma_test) # Test Data - Noisy sinusoidal"
   ]
  },
  {
   "cell_type": "code",
   "execution_count": null,
   "metadata": {},
   "outputs": [],
   "source": [
    "plt.figure(figsize=(10,5))\n",
    "plt.scatter(x_train, t_train, c='b', linewidths=3, label = 'Training Data')\n",
    "plt.plot(x_true, t_true, 'g', linewidth=4, label = 'True Mapper')\n",
    "plt.plot(x_test, t_test, 'r^', label = 'Test Data')\n",
    "plt.legend(fontsize=15)\n",
    "plt.xlabel('Data Samples, $x$',size=15)\n",
    "plt.ylabel('Target Labels, $t$',size=15);"
   ]
  },
  {
   "cell_type": "markdown",
   "metadata": {},
   "source": [
    "Now let's fit the data using the *polynomial regression* model:"
   ]
  },
  {
   "cell_type": "code",
   "execution_count": null,
   "metadata": {},
   "outputs": [],
   "source": []
  },
  {
   "cell_type": "code",
   "execution_count": null,
   "metadata": {},
   "outputs": [],
   "source": []
  },
  {
   "cell_type": "code",
   "execution_count": null,
   "metadata": {},
   "outputs": [],
   "source": []
  },
  {
   "cell_type": "code",
   "execution_count": null,
   "metadata": {},
   "outputs": [],
   "source": []
  },
  {
   "cell_type": "code",
   "execution_count": null,
   "metadata": {},
   "outputs": [],
   "source": []
  },
  {
   "cell_type": "code",
   "execution_count": null,
   "metadata": {},
   "outputs": [],
   "source": []
  },
  {
   "cell_type": "code",
   "execution_count": null,
   "metadata": {},
   "outputs": [],
   "source": []
  },
  {
   "cell_type": "code",
   "execution_count": null,
   "metadata": {},
   "outputs": [],
   "source": []
  },
  {
   "cell_type": "code",
   "execution_count": null,
   "metadata": {},
   "outputs": [],
   "source": [
    "def PolynomialRegression(x, t, M):\n",
    "    '''Fit a polynomial of order M to the data input data x and desire values t'''\n",
    "    \n",
    "    # Compute feature matrix X with polynomial features\n",
    "    X = ##\n",
    "    \n",
    "    # Compute the solution for the parameters w\n",
    "    w = #\n",
    "    # @ symbols are for matrix multiplications\n",
    "    \n",
    "    # Compute model prediction\n",
    "    y = #\n",
    "    \n",
    "    return "
   ]
  },
  {
   "cell_type": "code",
   "execution_count": null,
   "metadata": {},
   "outputs": [],
   "source": [
    "# Model Order\n",
    "M = ##\n",
    "\n",
    "# Find the parameters that fit the noisy sinusoidal\n",
    "w, y_train = PolynomialRegression(x_train,t_train,M) \n",
    "\n",
    "plt.figure(figsize=(10,7))\n",
    "plt.plot(x_train,t_train,'bo', label='Training Data')\n",
    "plt.plot(x_train,y_train,'.-r', label = 'Estimated Polynomial')\n",
    "plt.plot(x_true,t_true,'g', label = 'True Function')\n",
    "plt.legend()\n",
    "plt.xlabel('Data Samples, x')\n",
    "plt.ylabel('Desired Values, t');"
   ]
  },
  {
   "cell_type": "markdown",
   "metadata": {},
   "source": [
    "Let's see how well does this trained model **generalize** to the test data, to which we do not have labels.\n",
    "\n",
    "In the test data:\n",
    "* Apply the same feature extraction as in training: $\\mathbf{X}_{test} = \\Phi(\\mathbf{x}_{test})$, where $\\mathbf{X}_{test}$ is a $K\\times (M+1)$ data matrix\n",
    "* Predict the output using $\\mathbf{w}^*$: $\\mathbf{y}_{test} = \\Phi(\\mathbf{x}_{test})\\mathbf{w}^*$"
   ]
  },
  {
   "cell_type": "code",
   "execution_count": null,
   "metadata": {},
   "outputs": [],
   "source": [
    "def PolynomialRegression_test(x_test, w):\n",
    "    \n",
    "    # Compute test feature matrix\n",
    "    X = ##\n",
    "    \n",
    "    # Prediction for test samples using the trained model\n",
    "    y = ##\n",
    "    \n",
    "    return "
   ]
  },
  {
   "cell_type": "code",
   "execution_count": null,
   "metadata": {},
   "outputs": [],
   "source": [
    "y_test = PolynomialRegression_test(x_test, w)\n",
    "\n",
    "plt.figure(figsize=(10,7))\n",
    "plt.plot(x_train, t_train, 'bo', label='Training Data')\n",
    "plt.plot(x_train, y_train, '.-r', label = 'Estimated Polynomial in Training')\n",
    "plt.plot(x_true, t_true, 'g', label = 'True Function')\n",
    "plt.plot(x_test, t_test, 'r^', label = 'Test Data')\n",
    "plt.plot(x_test, y_test, '--k', label = 'Prediction in Test')\n",
    "plt.legend()\n",
    "plt.xlabel('Data Samples, x')\n",
    "plt.ylabel('Desired Values, t');"
   ]
  },
  {
   "cell_type": "markdown",
   "metadata": {},
   "source": [
    "* How do the weights look like?"
   ]
  },
  {
   "cell_type": "code",
   "execution_count": null,
   "metadata": {},
   "outputs": [],
   "source": [
    "plt.figure(figsize=(10,4))\n",
    "plt.stem(w)\n",
    "plt.ylabel('Weight values', size=15)\n",
    "plt.xticks(np.arange(len(w)), ['$w_{'+str(i)+'}$' for i in \n",
    "                               range(len(w))],rotation=0);"
   ]
  },
  {
   "cell_type": "markdown",
   "metadata": {},
   "source": [
    "* What happens when the test points fall outside the range of what the model has *learned*?"
   ]
  },
  {
   "cell_type": "code",
   "execution_count": null,
   "metadata": {},
   "outputs": [],
   "source": [
    "M = 4\n",
    "w, y_train = PolynomialRegression(x_train,t_train,M) \n",
    "\n",
    "x_test2, t_test2 = NoisySinusoidalData(N_test, 0, 1.5, sigma_test)\n",
    "\n",
    "plt.figure(figsize=(10,5))\n",
    "plt.plot(x_train, t_train, 'bo', label = 'Training Data')\n",
    "plt.plot(x_true, t_true, '-g', label = 'True Sinusoidal')\n",
    "plt.plot(x_test2, t_test2, 'r^', label = 'Test Data')\n",
    "plt.legend()\n",
    "plt.xlabel('Data Samples, x')\n",
    "plt.ylabel('Desired Values, t');"
   ]
  },
  {
   "cell_type": "code",
   "execution_count": null,
   "metadata": {},
   "outputs": [],
   "source": [
    "y_test2 = PolynomialRegression_test(x_test2, w)\n",
    "\n",
    "plt.figure(figsize=(10,5))\n",
    "plt.plot(x_train,t_train,'bo', label='Training Data')\n",
    "plt.plot(x_train,y_train,'.-r', label = 'Estimated Polynomial')\n",
    "plt.plot(x_true,t_true,'-g', label = 'True Function')\n",
    "plt.plot(x_test2,t_test2,'r^', label = 'Test Data')\n",
    "plt.plot(x_test2,y_test2,'--k', label = 'Test Predictions')\n",
    "plt.legend()\n",
    "plt.xlabel('Data Samples, x')\n",
    "plt.ylabel('Desired Values, t');"
   ]
  },
  {
   "cell_type": "markdown",
   "metadata": {},
   "source": [
    "---"
   ]
  },
  {
   "cell_type": "markdown",
   "metadata": {},
   "source": [
    "# Overfitting and Underfitting"
   ]
  },
  {
   "cell_type": "code",
   "execution_count": 2,
   "metadata": {},
   "outputs": [
    {
     "data": {
      "image/png": "[encoded data removed]",
      "text/plain": [
       "<IPython.core.display.Image object>"
      ]
     },
     "execution_count": 2,
     "metadata": {
      "image/png": {
       "width": 700
      }
     },
     "output_type": "execute_result"
    }
   ],
   "source": [
    "Image('figures/fits.png',width=700)"
   ]
  },
  {
   "cell_type": "markdown",
   "metadata": {},
   "source": [
    "<div class=\"alert alert-info\">\n",
    "    <b>Overfitting</b> \n",
    "\n",
    "In model fitting, a model is said to have **overfit** to the training data, if it is *not* able to *generalize* to new and unknown data. We can observe this effect as the training error is small but the error in the test data is very large.\n",
    "\n",
    "In other words, overfitting means that the *true* underlying model of the data is not estimated/learned properly, instead the model returned a poor representation that **memorized** the training samples **and** any meaningless noise in the data.\n",
    "</div>"
   ]
  },
  {
   "cell_type": "markdown",
   "metadata": {},
   "source": [
    "<div class=\"alert alert-info\">\n",
    "    <b>Underfitting</b> \n",
    "\n",
    "In model fitting, a model is said to have **underfit** if the error in both in training and test data sets are still decreasing. \n",
    "\n",
    "An underfitted model is not complex enough to model all the characteristics in the data.\n",
    "</div>"
   ]
  },
  {
   "cell_type": "markdown",
   "metadata": {},
   "source": [
    "As we saw before, as the polynomial model order increases, the weight values become very large! This is a good indication that we may be *memorizing* the training data."
   ]
  },
  {
   "cell_type": "markdown",
   "metadata": {},
   "source": [
    "* As $M$ increases, there are more parameters (more elements in the vector $\\mathbf{w}$) to learn and, so, the model becomes more complex.\n",
    "\n",
    "* The model order $M$ in polynomial regression regulates the model *complexity*. The large *M* is, the model complex the model is.\n",
    "    * In a Polynomial regresssion it also controls the richness of the feature space.\n",
    "* **Occam's Razor** states that the simplest model that works for our data is usually the most appropriate and sufficient. Model simplicity can mean different things, but we can consider model order. "
   ]
  },
  {
   "cell_type": "markdown",
   "metadata": {},
   "source": [
    "As a model that is too *complex*, it is more likely to *overfit*.\n",
    "* This essentially means it \"memorizes\" the input training data and becomes incapable of predicting outside it,\n",
    "* This includes memorizing all of the training data's noise!"
   ]
  },
  {
   "cell_type": "markdown",
   "metadata": {},
   "source": [
    "---"
   ]
  },
  {
   "cell_type": "markdown",
   "metadata": {},
   "source": [
    "# Strategies to Mitigate Overfitting"
   ]
  },
  {
   "cell_type": "markdown",
   "metadata": {},
   "source": [
    "1. Add more data! - when possible\n",
    "\n",
    "2. Occam's Razor - select a model with lower complexity\n",
    "\n",
    "3. Regularization - constrains/regularizes the coefficients of the model\n",
    "\n",
    "4. Cross-validation - technique for utilizing the training data to fine-tune hyperparameter values"
   ]
  },
  {
   "cell_type": "markdown",
   "metadata": {},
   "source": [
    "---"
   ]
  },
  {
   "cell_type": "markdown",
   "metadata": {},
   "source": [
    "# Regularization - Adding a Weight Penalty to the Objective Function"
   ]
  },
  {
   "cell_type": "markdown",
   "metadata": {},
   "source": [
    "Suppose you have $N$ data points and you are trying to estimate $M$ parameters. In other words, you are solving a set of $N$ equations with $M$ variables. For the least squares objective function, we computed the solution for this linear system to be:\n",
    "\n",
    "$$\\mathbf{w} = \\mathbf{X}^{\\dagger}\\mathbf{t} = (\\mathbf{X}^T\\mathbf{X})^{-1}\\mathbf{X}^T\\mathbf{t}$$\n",
    "\n",
    "**What happens when we have more unknowns than known variables, i.e., $M > N$? (This means the feature matrix $X$ will be a wide matrix.)** \n",
    "\n",
    "In other words, what happens when the data matrix, $\\mathbf{X}^T\\mathbf{X}$, is **not** full rank?\n",
    "\n",
    "* Review *span* and *rank*: [\"Inverse matrices, column space and null space\", YouTube 3Blue1Brown video](https://www.youtube.com/watch?v=uQhTuRlWMxw&list=PLZHQObOWTQDPD3MizzM2xVFitgF8hE_ab&index=7)\n",
    "\n",
    "In practice, it is quite often to obtain a **singular matrix** error. When this occurs, the matrix $\\mathbf{X}^T\\mathbf{X}$ is **not invertible**."
   ]
  },
  {
   "cell_type": "markdown",
   "metadata": {},
   "source": [
    "<div class=\"alert alert-info\">\n",
    "    <b>Regularization</b> \n",
    "\n",
    "Regularization constrains (or regularizes) the parameter coefficients such that they cannot take a large value. Regularization of the model parameters discourages learning a more complex, as to avoid the risk of overfitting.\n",
    "</div>"
   ]
  },
  {
   "cell_type": "markdown",
   "metadata": {},
   "source": [
    "### Ridge Regularizer"
   ]
  },
  {
   "cell_type": "markdown",
   "metadata": {},
   "source": [
    "The Ridge regularizer, also known as the L2-Norm regularizer or weight decay, adds a term with the squared sum of the weights scaled by the hyperparameter $\\lambda$. \n",
    "\n",
    "\\begin{align*}\n",
    "R^{(L2)}_{\\mathbf{w}} &= \\lambda \\sum_{i=0}^M w_i^2 \\\\\n",
    "&= \\lambda \\Vert\\mathbf{w}\\Vert_2^2\n",
    "\\end{align*}\n",
    "\n",
    "This forces the learning algorithm to not only fit the data but also keep the model weights as small as possible. Note that the regularization term should only be added to the objective function during training. Once the model is trained, you want to evaluate the model's performance using the unregularized performance measure.\n",
    "\n",
    "* The hyperparameter $\\lambda$ controls how much you want to regularize the model. If $\\lambda$ is 0 then the learning algorithm will just minimize the error term in the cost function. If $\\lambda$ is very large, then all weights end up very close to zero and the result is a flat line going through the data’s mean."
   ]
  },
  {
   "cell_type": "markdown",
   "metadata": {},
   "source": [
    "### Lasso Regularizer"
   ]
  },
  {
   "cell_type": "markdown",
   "metadata": {},
   "source": [
    "The Lasso regularizer, also known as the L1-norm regularizer, it adds a term with the L1-norm of the weight vector $\\mathbf{w}$ scaled by the hyperparameter $\\lambda$. $\\lambda$ here has the same tradeoff responsibility.\n",
    "\n",
    "\\begin{align*}\n",
    "R^{(L1)}_{\\mathbf{w}} &= \\lambda \\sum_{i=0}^M |w_i| \\\\\n",
    "&= \\lambda \\Vert\\mathbf{w}\\Vert_1\n",
    "\\end{align*}\n",
    "\n",
    "* An important characteristic of the Lasso regularizer is that it tends to eliminate the weights of the least important features by setting them to zero. This is known as **sparsity**."
   ]
  },
  {
   "cell_type": "markdown",
   "metadata": {},
   "source": [
    "### Elastic Net Regularizer"
   ]
  },
  {
   "cell_type": "markdown",
   "metadata": {},
   "source": [
    "Elastic Net is a middle ground between Ridge and Lasso. The regularization term is a simple mix of both Ridge and Lasso's regularization terms, and you can control the mix ratio with the hyperparameter $\\beta$.\n",
    "\n",
    "\\begin{align*}\n",
    "R^{(L12)}_{\\mathbf{w}} &= \\beta\\lambda \\sum_{i=0}^M |w_i| + (1-\\beta) \\lambda \\sum_{i=0}^M w_i^2 \\\\\n",
    "&= \\beta R^{(L1)}_{\\mathbf{w}} + (1-\\beta) R^{(L2)}_{\\mathbf{w}}\n",
    "\\end{align*}"
   ]
  },
  {
   "cell_type": "code",
   "execution_count": null,
   "metadata": {},
   "outputs": [],
   "source": [
    "def Regularizers(w,beta=0.5):\n",
    "    L1 = np.abs(w)\n",
    "    L2 = w**2\n",
    "    Elastic = beta*np.abs(w) + (1-beta)*w**2\n",
    "    return L1, L2, Elastic\n",
    "\n",
    "x = np.linspace(-1.5,1.5,1000)\n",
    "L1,L2,Elastic=Regularizers(x)\n",
    "\n",
    "plt.plot(x,L1, 'b--', label = 'Lasso regularizer')\n",
    "plt.plot(x,L2, 'm-.', label = 'Ridge regularizer')\n",
    "plt.plot(x,Elastic, 'g-', label = 'Elastic Net regularizer')\n",
    "plt.xlabel('Coefficients',size=15)\n",
    "plt.ylabel('Regularizers',size=15); plt.legend(fontsize=15);"
   ]
  },
  {
   "cell_type": "markdown",
   "metadata": {},
   "source": [
    "### Observations"
   ]
  },
  {
   "cell_type": "markdown",
   "metadata": {},
   "source": [
    "* Ridge regularizer:\n",
    "    * forces parameter values to be small but not equal to zero\n",
    "    * is highly affected by outliers\n",
    "\n",
    "* Lasso regularizer:\n",
    "    * promotes sparsity, i.e. forces some parameter values to be exactly equal to zero\n",
    "    * it is not as affected by outliers\n",
    "    \n",
    "* Elastic Net regularizer:\n",
    "    * requires fine-tuning of an extra hyperparameter"
   ]
  },
  {
   "cell_type": "markdown",
   "metadata": {},
   "source": [
    "### Examples"
   ]
  },
  {
   "cell_type": "markdown",
   "metadata": {},
   "source": [
    "* Consider $\\mathbf{w}=[0.5,0.5,1]$. We find that the rigde regularizer is $R^{(L2)}_{\\mathbf{w}} = 0.5^2+0.5^2+1^2 = 1.5$, whereas the lasso regularizer gives us $R^{(L1)}_{\\mathbf{w}}=0.5+0.5+1=2$. Thus, for this set of coefficients, the lasso regularizer will apply a stronger penalty (larger value).\n",
    "\n",
    "* Consider $\\mathbf{w}=[0,0,2]$. We find that the rigde regularizer is $R^{(L2)}_{\\mathbf{w}} = 0^2+0^2+2^2 = 4$, whereas the lasso regularizer gives us $R^{(L1)}_{\\mathbf{w}}=0+0+2=2$. Thus, for this set of coefficients, the ridge regularizer will apply a stronger penalty (larger value)."
   ]
  },
  {
   "cell_type": "markdown",
   "metadata": {},
   "source": [
    "### Which one to choose?"
   ]
  },
  {
   "cell_type": "markdown",
   "metadata": {},
   "source": [
    "Ridge is a good default, but if you suspect that only a few features are actually useful, you should prefer Lasso or Elastic Net since they tend to reduce the useless features' weights down to zero. In general, Elastic Net is preferred over Lasso since Lasso may behave erratically when the number of features is greater than the number of training instances or when several features are strongly correlated."
   ]
  },
  {
   "cell_type": "markdown",
   "metadata": {},
   "source": [
    "<div class=\"alert alert-info\">\n",
    "    <b>Ridge Regression</b> \n",
    "\n",
    "Let $\\{(x_i,t_i)\\}_{i=1}^N$ be the set of training data, where $x_i$ are the training samples and $t_i$ their associated target/desired value. Consider the linear regression model: $\\mathbf{y} = \\mathbf{X}\\mathbf{w}$, where $\\mathbf{X}$ is the feature matrix of size $N\\times(M+1)$.\n",
    "\n",
    "The Ridge Regression objective function penalizes the weights with the L2-norm:\n",
    "\n",
    "\\begin{align*}\n",
    "J(\\mathbf{w}) &= \\Vert\\mathbf{t}-\\mathbf{X}\\mathbf{w}\\Vert_2^2 + \\lambda \\Vert\\mathbf{w}\\Vert_2^2\n",
    "\\end{align*}\n",
    "\n",
    "where $\\lambda$ is the **hyperparameter** that controls the trade off between minimizing the error and minimizing the regularizer.\n",
    "\n",
    "Our goal is to find $\\mathbf{w}$ that minimizes the objective function $J(\\mathbf{w})$, that is:\n",
    "    \n",
    "\\begin{align*}\n",
    "\\arg_{\\mathbf{w}}\\min J(\\mathbf{w})\n",
    "\\end{align*}\n",
    "\n",
    "</div>"
   ]
  },
  {
   "cell_type": "markdown",
   "metadata": {},
   "source": [
    "Let's expand the equation for $J(\\mathbf{w})$:\n",
    "\n",
    "\\begin{align*}\n",
    "J(\\mathbf{w}) &= \\Vert\\mathbf{t}-\\mathbf{X}\\mathbf{w}\\Vert_2^2 + \\lambda \\Vert\\mathbf{w}\\Vert_2^2\\\\\n",
    "&= (\\mathbf{t}-\\mathbf{X}\\mathbf{w})^T(\\mathbf{t}-\\mathbf{X}\\mathbf{w}) + \\lambda\\mathbf{w}^T\\mathbf{w}\\\\\n",
    "&= \\mathbf{t}^T\\mathbf{t} -\\mathbf{t}^T\\mathbf{X}\\mathbf{w}-\\mathbf{w}^T\\mathbf{X}^T\\mathbf{t}+\\mathbf{w}^T\\mathbf{X}^T\\mathbf{X}\\mathbf{w} + \\lambda\\mathbf{w}^T\\mathbf{w}\n",
    "\\end{align*}\n",
    "    \n",
    "Taking the derivative:\n",
    "\n",
    "\\begin{align*}\n",
    "\\frac{d J}{d \\mathbf{w}} = -2\\mathbf{t}^T\\mathbf{X} + 2\\mathbf{w}^T\\mathbf{X}^T\\mathbf{X} + \\lambda 2\\mathbf{w}^T\\mathbf{I}\n",
    "\\end{align*}\n",
    "\n",
    "Setting it to zero, applyting transpose on both sides, and solving for $\\mathbf{w}$:\n",
    "\n",
    "\\begin{align*}\n",
    "-\\mathbf{X}^T\\mathbf{t} + \\mathbf{X}^T\\mathbf{X}\\mathbf{w} + \\lambda \\mathbf{I}\\mathbf{w} &= 0 \\\\\n",
    "(\\mathbf{X}^T\\mathbf{X} + \\lambda \\mathbf{I})\\mathbf{w} &= \\mathbf{X}^T\\mathbf{t}\\\\\n",
    "\\mathbf{w} &= (\\mathbf{X}^T\\mathbf{X} + \\lambda \\mathbf{I})^{-1} \\mathbf{X}^T\\mathbf{t}\n",
    "\\end{align*}\n",
    "\n",
    "The optimal solution is in closed-form analytical solution. This is because we are dealing with a linear model and a convex objective function:\n",
    "\n",
    "$$\\mathbf{w} = \\left(\\mathbf{X}^T\\mathbf{X} + \\lambda\\mathbf{I}\\right)^{-1}\\mathbf{X}^T\\mathbf{t} $$\n",
    "\n",
    "where $\\mathbf{I}$ is an identity matrix of size $(M+1)\\times (M+1)$. As you can see, we first **diagonally-load** the square matrix $\\mathbf{X}^T\\mathbf{X}$ before inverting it."
   ]
  },
  {
   "cell_type": "markdown",
   "metadata": {},
   "source": [
    "### Observations"
   ]
  },
  {
   "cell_type": "markdown",
   "metadata": {},
   "source": [
    "* In practice, the square matrix $\\mathbf{X}^T\\mathbf{X}$ may be **singular**. This will happen when:\n",
    "    1. There are more parameters ($M$) than samples ($N$).\n",
    "    2. Some of the features are linearly dependent.\n",
    "    \n",
    "* A singular matrix:\n",
    "    * is not full rank\n",
    "    * has at least one eigenvalue equal to 0\n",
    "    * its determinant is 0\n",
    "    * one or more columns (or rows) are linearly dependent\n",
    "\n",
    "* One solution to matrix singularity is to diagonally load it, before inverting. Diagonally loading a singular matrix, will force it to become full rank.\n",
    "\n",
    "* If $\\lambda \\rightarrow 0$, then the penalty will be disregarded in the solution for the parameters. This applies the least *distortion* to $\\mathbf{X}^T\\mathbf{X}$.\n",
    "\n",
    "* If $\\lambda \\rightarrow \\infty$, then the penalty term will be very large, therefore the learning algorithm will *try* to minimize it. This applies the most *distortion* to $\\mathbf{X}^T\\mathbf{X}$."
   ]
  },
  {
   "cell_type": "markdown",
   "metadata": {},
   "source": [
    "**In code, how would you change the function ```PolynomialRegression``` created above to include the regularization term?**"
   ]
  },
  {
   "cell_type": "code",
   "execution_count": null,
   "metadata": {},
   "outputs": [],
   "source": [
    "def PolynomialRegression_reg(x,t,M,lam):\n",
    "    \n",
    "    # Compute feature matrix X with polynomial features\n",
    "    X = ##\n",
    "    \n",
    "    # Compute the solution for the parameters w\n",
    "    w = ##\n",
    "    \n",
    "    # Compute model prediction\n",
    "    y = ##\n",
    "    \n",
    "    return "
   ]
  },
  {
   "cell_type": "code",
   "execution_count": null,
   "metadata": {},
   "outputs": [],
   "source": [
    "M = ##\n",
    "lam = ##\n",
    "\n",
    "w, y = PolynomialRegression(x_train,t_train,M) \n",
    "w_reg, y_reg = PolynomialRegression_reg(x_train,t_train,M,lam) \n",
    "\n",
    "fig=plt.figure(figsize=(10,5))\n",
    "plt.scatter(x_train,t_train, label='Training Data')\n",
    "plt.plot(x_train,y,'r', label = 'Polynomial Regression')\n",
    "plt.plot(x_train,y_reg, 'b',label = 'Polynomial Regression w/ Regularizer')\n",
    "plt.plot(x_true,t_true,'--g', label = 'True Function')\n",
    "plt.legend(bbox_to_anchor=(1.5, 1),fontsize=12,ncol=1)\n",
    "plt.xlabel('Data Samples, $x$', fontsize=20)\n",
    "plt.ylabel('Desired Labels, $t$', fontsize=20);"
   ]
  },
  {
   "cell_type": "markdown",
   "metadata": {},
   "source": [
    "---"
   ]
  },
  {
   "cell_type": "markdown",
   "metadata": {},
   "source": [
    "Next up... Performance measures for regression tasks and cross-validation."
   ]
  },
  {
   "cell_type": "markdown",
   "metadata": {},
   "source": [
    "---"
   ]
  }
 ],
 "metadata": {
  "kernelspec": {
   "display_name": "Python 3 (ipykernel)",
   "language": "python",
   "name": "python3"
  },
  "language_info": {
   "codemirror_mode": {
    "name": "ipython",
    "version": 3
   },
   "file_extension": ".py",
   "mimetype": "text/x-python",
   "name": "python",
   "nbconvert_exporter": "python",
   "pygments_lexer": "ipython3",
   "version": "3.11.9"
  },
  "latex_envs": {
   "LaTeX_envs_menu_present": true,
   "autoclose": false,
   "autocomplete": true,
   "bibliofile": "biblio.bib",
   "cite_by": "apalike",
   "current_citInitial": 1,
   "eqLabelWithNumbers": true,
   "eqNumInitial": 1,
   "hotkeys": {
    "equation": "Ctrl-E",
    "itemize": "Ctrl-I"
   },
   "labels_anchors": false,
   "latex_user_defs": false,
   "report_style_numbering": false,
   "user_envs_cfg": false
  },
  "varInspector": {
   "cols": {
    "lenName": 16,
    "lenType": 16,
    "lenVar": 40
   },
   "kernels_config": {
    "python": {
     "delete_cmd_postfix": "",
     "delete_cmd_prefix": "del ",
     "library": "var_list.py",
     "varRefreshCmd": "print(var_dic_list())"
    },
    "r": {
     "delete_cmd_postfix": ") ",
     "delete_cmd_prefix": "rm(",
     "library": "var_list.r",
     "varRefreshCmd": "cat(var_dic_list()) "
    }
   },
   "types_to_exclude": [
    "module",
    "function",
    "builtin_function_or_method",
    "instance",
    "_Feature"
   ],
   "window_display": false
  }
 },
 "nbformat": 4,
 "nbformat_minor": 4
}
