{
 "cells": [
  {
   "cell_type": "markdown",
   "metadata": {},
   "source": [
    "# Final Project - Data Collection"
   ]
  },
  {
   "cell_type": "markdown",
   "metadata": {},
   "source": [
    "This is a **project group assignment**. No more than 3 individuals per group.\n",
    "\n",
    "Students in EEE4773 can only form a team with other team members enrolled in EEE4773. Same applies for EEL5840."
   ]
  },
  {
   "cell_type": "markdown",
   "metadata": {},
   "source": [
    "# Problem 1 - Team Formation"
   ]
  },
  {
   "cell_type": "markdown",
   "metadata": {},
   "source": [
    "Create a final project group with no more than 3 individuals per team.\n",
    "\n",
    "1. Create your Group Team on GitHub.\n",
    "    * Select a name for your team. This will be used throughout the semester including announcement of contest winners.\n",
    "    * Only 1 person per team should **create** a GitHub Team, and the other members will **join** the team\n",
    "\n",
    "**I encourage you to meet with your teammates regularly.**"
   ]
  },
  {
   "cell_type": "markdown",
   "metadata": {},
   "source": [
    "# Problem 2 - Gathering Your Group Dataset"
   ]
  },
  {
   "cell_type": "markdown",
   "metadata": {},
   "source": [
    "The dataset can be collected individually and then merged into a single dataset folder per team. Please follow instructions in the project description for data collection."
   ]
  },
  {
   "cell_type": "markdown",
   "metadata": {},
   "source": [
    "## Step 1: Resize Your Images to $640\\times 640$ - Complete Individually"
   ]
  },
  {
   "cell_type": "markdown",
   "metadata": {},
   "source": [
    "Let's assume that you have a team with 3 members: member 1, member 2, and member 3. Each individual will create a folder called ```images_member_1```, ```images_member_2```, and ```images_member_3``` respectively."
   ]
  },
  {
   "cell_type": "markdown",
   "metadata": {},
   "source": [
    "The code in the following cell will resize all your images automatically. **You will only need to change the name of the input and output folders.**"
   ]
  },
  {
   "cell_type": "code",
   "execution_count": 1,
   "metadata": {},
   "outputs": [],
   "source": [
    "# Change these folder name accordingly\n",
    "\n",
    "input_folder = \"images_member_1\" # folder where all images are stored\n",
    "output_folder = \"resized_images_member_1\" # folder where all resized images will be saved"
   ]
  },
  {
   "cell_type": "code",
   "execution_count": 2,
   "metadata": {},
   "outputs": [],
   "source": [
    "# Load necessary libraries\n",
    "import os \n",
    "from PIL import Image\n",
    "import re\n",
    "from pathlib import Path"
   ]
  },
  {
   "cell_type": "code",
   "execution_count": 4,
   "metadata": {},
   "outputs": [],
   "source": [
    "i=0 #image counter\n",
    "for file in os.listdir(input_folder): # reads all files in this directory\n",
    "    if file.endswith('.jpg') or file.endswith('.jpeg') or file.endswith('.png'):\n",
    "        # if the file is in any of this format, proceed with resizing and renaming\n",
    "\n",
    "        # Load filename\n",
    "        filename = input_folder+'/'+file\n",
    "        \n",
    "        # Load image and resize it to a 100x100 RGB image\n",
    "        y = Image.open(filename).convert('RGB').resize((640,640))\n",
    "        \n",
    "        # Create new directory for resized images\n",
    "        new_dir = Path(output_folder) # new directory where altered images will be saved\n",
    "        new_dir.mkdir(parents=True, exist_ok=True) #BEWARE:it does not create a new dir if \"dataset\" already exists\n",
    "\n",
    "        # Save resized images in jpg format\n",
    "        new_file_name = file.split(\".\",1)[0] + \".jpg\"\n",
    "        y.save(new_dir / new_file_name)\n",
    "        \n",
    "        i+=1 #increment image counter"
   ]
  },
  {
   "cell_type": "markdown",
   "metadata": {},
   "source": [
    "## Step 2: Annotate Your Images - Complete Individually"
   ]
  },
  {
   "cell_type": "markdown",
   "metadata": {},
   "source": [
    "**Each member should annotate their own images**. Please follow the project description instructions for creating your label annotations and save them in a YOLO format using [makesense.ai](https://www.makesense.ai/)."
   ]
  },
  {
   "cell_type": "markdown",
   "metadata": {},
   "source": [
    "When your annotations are complete, each member will have download a folder with the YOLO label annotations for each image they collected. Rename this folder as ```dataset_member_1```, ```dataset_member_2```, and ```dataset_member_3``` for member 1, member 2, and member 3, respectively."
   ]
  },
  {
   "cell_type": "markdown",
   "metadata": {},
   "source": [
    "## Step 3: Gather Your Group Dataset - Complete as a Group"
   ]
  },
  {
   "cell_type": "markdown",
   "metadata": {},
   "source": [
    "Now you will merge all ```txt``` files in ```dataset_member_1```, ```dataset_member_2```, and ```dataset_member_3``` into a single folder called ```dataset```. Compress this folder as a **zip** folder, ```dataset.zip```.\n",
    "\n",
    "Next, merge all resized image files in ```resized_images_member_1```, ```resized_images_member_2```, and ```resized_images_member_3``` into a single folder called ```resized_images```. Compress this folder as a **zip** folder, ```resized_images.zip```.\n",
    "\n",
    "Finally, submit the files ```dataset.zip``` and ```resized_images.zip```to Canvas as your project submission."
   ]
  },
  {
   "cell_type": "markdown",
   "metadata": {},
   "source": [
    "## Submit your Solution"
   ]
  },
  {
   "cell_type": "markdown",
   "metadata": {},
   "source": [
    "The zip files are likely too large to push to GitHub. So for this assignment only, upload the zip files directly in Canvas.\n",
    "\n",
    "Submit the URL of your GitHub Repository along with all zip files as your assignment submission on Canvas."
   ]
  }
 ],
 "metadata": {
  "kernelspec": {
   "display_name": "Python 3 (ipykernel)",
   "language": "python",
   "name": "python3"
  },
  "language_info": {
   "codemirror_mode": {
    "name": "ipython",
    "version": 3
   },
   "file_extension": ".py",
   "mimetype": "text/x-python",
   "name": "python",
   "nbconvert_exporter": "python",
   "pygments_lexer": "ipython3",
   "version": "3.11.9"
  },
  "latex_envs": {
   "LaTeX_envs_menu_present": true,
   "autoclose": false,
   "autocomplete": true,
   "bibliofile": "biblio.bib",
   "cite_by": "apalike",
   "current_citInitial": 1,
   "eqLabelWithNumbers": true,
   "eqNumInitial": 1,
   "hotkeys": {
    "equation": "Ctrl-E",
    "itemize": "Ctrl-I"
   },
   "labels_anchors": false,
   "latex_user_defs": false,
   "report_style_numbering": false,
   "user_envs_cfg": false
  },
  "varInspector": {
   "cols": {
    "lenName": 16,
    "lenType": 16,
    "lenVar": 40
   },
   "kernels_config": {
    "python": {
     "delete_cmd_postfix": "",
     "delete_cmd_prefix": "del ",
     "library": "var_list.py",
     "varRefreshCmd": "print(var_dic_list())"
    },
    "r": {
     "delete_cmd_postfix": ") ",
     "delete_cmd_prefix": "rm(",
     "library": "var_list.r",
     "varRefreshCmd": "cat(var_dic_list()) "
    }
   },
   "types_to_exclude": [
    "module",
    "function",
    "builtin_function_or_method",
    "instance",
    "_Feature"
   ],
   "window_display": false
  },
  "widgets": {
   "application/vnd.jupyter.widget-state+json": {
    "state": {},
    "version_major": 2,
    "version_minor": 0
   }
  }
 },
 "nbformat": 4,
 "nbformat_minor": 4
}
