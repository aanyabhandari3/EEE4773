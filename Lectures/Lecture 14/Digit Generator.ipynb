{
 "cells": [
  {
   "cell_type": "markdown",
   "id": "c23cfafa",
   "metadata": {},
   "source": [
    "# Digit Generator"
   ]
  },
  {
   "cell_type": "markdown",
   "id": "c98fc224",
   "metadata": {},
   "source": [
    "Use this Notebook to random generate the set of digits that you will handwrite for your final project data collection step."
   ]
  },
  {
   "cell_type": "code",
   "execution_count": 1,
   "id": "e0e908f5",
   "metadata": {},
   "outputs": [],
   "source": [
    "# Load libraries\n",
    "import numpy as np\n",
    "import scipy.stats as stats\n",
    "\n",
    "# Creates a Uniform discrete random variable that samples values {0,1,2,...,9} with equal probability\n",
    "X = stats.rv_discrete(values=(list(range(10)), np.ones(10)/10))"
   ]
  },
  {
   "cell_type": "markdown",
   "id": "e5d46035",
   "metadata": {},
   "source": [
    "Now, sample values at random for each image/row."
   ]
  },
  {
   "cell_type": "markdown",
   "id": "cb8bab7c",
   "metadata": {},
   "source": [
    "# Tell me My Digits"
   ]
  },
  {
   "cell_type": "markdown",
   "id": "82c9d805",
   "metadata": {},
   "source": [
    "## For Single-Digit Images (total of 30 images)"
   ]
  },
  {
   "cell_type": "code",
   "execution_count": 2,
   "id": "0b1f1535",
   "metadata": {},
   "outputs": [
    {
     "data": {
      "text/plain": [
       "array([[4],\n",
       "       [2],\n",
       "       [4],\n",
       "       [0],\n",
       "       [2],\n",
       "       [0],\n",
       "       [5],\n",
       "       [7],\n",
       "       [9],\n",
       "       [8],\n",
       "       [7],\n",
       "       [3],\n",
       "       [0],\n",
       "       [2],\n",
       "       [3],\n",
       "       [1],\n",
       "       [4],\n",
       "       [2],\n",
       "       [7],\n",
       "       [3],\n",
       "       [9],\n",
       "       [0],\n",
       "       [4],\n",
       "       [9],\n",
       "       [8],\n",
       "       [3],\n",
       "       [2],\n",
       "       [8],\n",
       "       [1],\n",
       "       [5]])"
      ]
     },
     "execution_count": 2,
     "metadata": {},
     "output_type": "execute_result"
    }
   ],
   "source": [
    "X.rvs(size=[30,1])"
   ]
  },
  {
   "cell_type": "markdown",
   "id": "9b04ff43",
   "metadata": {},
   "source": [
    "## For Two-Digit Images (Total of 30 images)"
   ]
  },
  {
   "cell_type": "code",
   "execution_count": 3,
   "id": "9e537b46",
   "metadata": {},
   "outputs": [
    {
     "data": {
      "text/plain": [
       "array([[4, 6],\n",
       "       [8, 8],\n",
       "       [7, 7],\n",
       "       [4, 4],\n",
       "       [1, 5],\n",
       "       [4, 7],\n",
       "       [4, 0],\n",
       "       [2, 6],\n",
       "       [0, 5],\n",
       "       [9, 5],\n",
       "       [4, 9],\n",
       "       [6, 8],\n",
       "       [2, 0],\n",
       "       [5, 7],\n",
       "       [8, 9],\n",
       "       [4, 2],\n",
       "       [8, 2],\n",
       "       [3, 9],\n",
       "       [0, 6],\n",
       "       [9, 8],\n",
       "       [2, 7],\n",
       "       [1, 3],\n",
       "       [3, 9],\n",
       "       [0, 2],\n",
       "       [3, 1],\n",
       "       [0, 6],\n",
       "       [0, 4],\n",
       "       [0, 1],\n",
       "       [1, 2],\n",
       "       [6, 2]])"
      ]
     },
     "execution_count": 3,
     "metadata": {},
     "output_type": "execute_result"
    }
   ],
   "source": [
    "X.rvs(size=[30,2])"
   ]
  },
  {
   "cell_type": "markdown",
   "id": "5dbdb848",
   "metadata": {},
   "source": [
    "## For Three-Digit Images (Total of 40 images)"
   ]
  },
  {
   "cell_type": "code",
   "execution_count": 4,
   "id": "17bea107",
   "metadata": {},
   "outputs": [
    {
     "data": {
      "text/plain": [
       "array([[0, 6, 6],\n",
       "       [2, 4, 1],\n",
       "       [9, 0, 7],\n",
       "       [2, 4, 2],\n",
       "       [9, 1, 3],\n",
       "       [2, 7, 6],\n",
       "       [9, 5, 7],\n",
       "       [9, 7, 1],\n",
       "       [7, 3, 3],\n",
       "       [1, 0, 6],\n",
       "       [7, 6, 7],\n",
       "       [8, 8, 9],\n",
       "       [4, 8, 4],\n",
       "       [6, 3, 2],\n",
       "       [5, 7, 3],\n",
       "       [6, 1, 2],\n",
       "       [2, 8, 5],\n",
       "       [8, 1, 2],\n",
       "       [9, 2, 7],\n",
       "       [2, 5, 0],\n",
       "       [2, 6, 0],\n",
       "       [5, 1, 0],\n",
       "       [4, 7, 4],\n",
       "       [0, 6, 2],\n",
       "       [9, 5, 8],\n",
       "       [8, 9, 9],\n",
       "       [4, 5, 9],\n",
       "       [2, 9, 6],\n",
       "       [4, 5, 9],\n",
       "       [1, 0, 5],\n",
       "       [3, 8, 1],\n",
       "       [0, 6, 8],\n",
       "       [6, 8, 4],\n",
       "       [8, 5, 3],\n",
       "       [2, 1, 7],\n",
       "       [2, 8, 8],\n",
       "       [0, 3, 1],\n",
       "       [9, 6, 7],\n",
       "       [3, 7, 2],\n",
       "       [2, 1, 7]])"
      ]
     },
     "execution_count": 4,
     "metadata": {},
     "output_type": "execute_result"
    }
   ],
   "source": [
    "X.rvs(size=[40,3])"
   ]
  },
  {
   "cell_type": "markdown",
   "id": "7cece406",
   "metadata": {},
   "source": [
    "---"
   ]
  }
 ],
 "metadata": {
  "kernelspec": {
   "display_name": "Python 3 (ipykernel)",
   "language": "python",
   "name": "python3"
  },
  "language_info": {
   "codemirror_mode": {
    "name": "ipython",
    "version": 3
   },
   "file_extension": ".py",
   "mimetype": "text/x-python",
   "name": "python",
   "nbconvert_exporter": "python",
   "pygments_lexer": "ipython3",
   "version": "3.11.9"
  },
  "latex_envs": {
   "LaTeX_envs_menu_present": true,
   "autoclose": true,
   "autocomplete": true,
   "bibliofile": "biblio.bib",
   "cite_by": "apalike",
   "current_citInitial": 1,
   "eqLabelWithNumbers": true,
   "eqNumInitial": 1,
   "hotkeys": {
    "equation": "Ctrl-E",
    "itemize": "Ctrl-I"
   },
   "labels_anchors": false,
   "latex_user_defs": false,
   "report_style_numbering": false,
   "user_envs_cfg": false
  },
  "varInspector": {
   "cols": {
    "lenName": 16,
    "lenType": 16,
    "lenVar": 40
   },
   "kernels_config": {
    "python": {
     "delete_cmd_postfix": "",
     "delete_cmd_prefix": "del ",
     "library": "var_list.py",
     "varRefreshCmd": "print(var_dic_list())"
    },
    "r": {
     "delete_cmd_postfix": ") ",
     "delete_cmd_prefix": "rm(",
     "library": "var_list.r",
     "varRefreshCmd": "cat(var_dic_list()) "
    }
   },
   "types_to_exclude": [
    "module",
    "function",
    "builtin_function_or_method",
    "instance",
    "_Feature"
   ],
   "window_display": false
  }
 },
 "nbformat": 4,
 "nbformat_minor": 5
}
